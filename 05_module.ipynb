{
 "cells": [
  {
   "cell_type": "markdown",
   "id": "aa5c2851-77ae-4776-9a73-47a383be0f9f",
   "metadata": {},
   "source": [
    "# 모듈"
   ]
  },
  {
   "cell_type": "code",
   "execution_count": 61,
   "id": "01f69adc-123c-4547-b554-6931a5f78cbe",
   "metadata": {},
   "outputs": [],
   "source": [
    "import fibo_1"
   ]
  },
  {
   "cell_type": "code",
   "execution_count": 62,
   "id": "91469903-7238-4144-97b5-3d019946f512",
   "metadata": {},
   "outputs": [
    {
     "name": "stdout",
     "output_type": "stream",
     "text": [
      "<module 'fibo_1' from 'C:\\\\Users\\\\19wlg\\\\Desktop\\\\boot_camp\\\\camp_31\\\\Python\\\\fibo_1.py'>\n"
     ]
    }
   ],
   "source": [
    "print(fibo_1)"
   ]
  },
  {
   "cell_type": "code",
   "execution_count": 63,
   "id": "7ecec96b-99c7-4997-b4c6-962ab642b484",
   "metadata": {},
   "outputs": [
    {
     "ename": "AttributeError",
     "evalue": "module 'fibo_1' has no attribute 'fibo_loop'",
     "output_type": "error",
     "traceback": [
      "\u001b[1;31m---------------------------------------------------------------------------\u001b[0m",
      "\u001b[1;31mAttributeError\u001b[0m                            Traceback (most recent call last)",
      "Cell \u001b[1;32mIn[63], line 1\u001b[0m\n\u001b[1;32m----> 1\u001b[0m \u001b[43mfibo_1\u001b[49m\u001b[38;5;241;43m.\u001b[39;49m\u001b[43mfibo_loop\u001b[49m(\u001b[38;5;241m10\u001b[39m)\n",
      "\u001b[1;31mAttributeError\u001b[0m: module 'fibo_1' has no attribute 'fibo_loop'"
     ]
    }
   ],
   "source": [
    "fibo_1.fibo_loop(10)"
   ]
  },
  {
   "cell_type": "code",
   "execution_count": 64,
   "id": "3dfa3996-8261-4ed3-bfe5-27e53651c635",
   "metadata": {},
   "outputs": [
    {
     "ename": "AttributeError",
     "evalue": "module 'fibo_1' has no attribute 'fibo_rec'",
     "output_type": "error",
     "traceback": [
      "\u001b[1;31m---------------------------------------------------------------------------\u001b[0m",
      "\u001b[1;31mAttributeError\u001b[0m                            Traceback (most recent call last)",
      "Cell \u001b[1;32mIn[64], line 1\u001b[0m\n\u001b[1;32m----> 1\u001b[0m \u001b[43mfibo_1\u001b[49m\u001b[38;5;241;43m.\u001b[39;49m\u001b[43mfibo_rec\u001b[49m(\u001b[38;5;241m5\u001b[39m)\n",
      "\u001b[1;31mAttributeError\u001b[0m: module 'fibo_1' has no attribute 'fibo_rec'"
     ]
    }
   ],
   "source": [
    "fibo_1.fibo_rec(5)"
   ]
  },
  {
   "cell_type": "markdown",
   "id": "62611363-5e76-4700-a85f-d25b010428bd",
   "metadata": {},
   "source": [
    "# 패키지\n",
    "\n",
    "```\n",
    "myPackage/\n",
    "    __init__.py\n",
    "    math\n",
    "        __init__.py\n",
    "        fibo.py\n",
    "        fomula.py\n",
    "```\n",
    "패키지 안에 `'__init__.py` 파일이 있어야 패키지로 인식"
   ]
  },
  {
   "cell_type": "code",
   "execution_count": 18,
   "id": "a6f6806d-d193-4e06-8766-c575b2eeebd2",
   "metadata": {},
   "outputs": [],
   "source": [
    "import myPackage"
   ]
  },
  {
   "cell_type": "code",
   "execution_count": 19,
   "id": "3f251d78-864e-4987-b97d-811f42b4cdd2",
   "metadata": {},
   "outputs": [
    {
     "name": "stdout",
     "output_type": "stream",
     "text": [
      "<module 'myPackage' from 'C:\\\\Users\\\\19wlg\\\\Desktop\\\\boot_camp\\\\camp_31\\\\Python\\\\myPackage\\\\__init__.py'>\n"
     ]
    }
   ],
   "source": [
    "print(myPackage)"
   ]
  },
  {
   "cell_type": "code",
   "execution_count": 22,
   "id": "a151ec69-947a-4322-8b7f-0e8417b1b0a6",
   "metadata": {},
   "outputs": [],
   "source": [
    "from myPackage.math import fomula # 경로를 찾아서 모듈을 꺼내옴"
   ]
  },
  {
   "cell_type": "code",
   "execution_count": 23,
   "id": "11c1a635-cb8e-4c59-bb30-c7bdc3789375",
   "metadata": {},
   "outputs": [
    {
     "data": {
      "text/plain": [
       "3.14"
      ]
     },
     "execution_count": 23,
     "metadata": {},
     "output_type": "execute_result"
    }
   ],
   "source": [
    "fomula.pi"
   ]
  },
  {
   "cell_type": "code",
   "execution_count": 25,
   "id": "a8ccb8a8-7860-4702-bb88-39a6d277fc5b",
   "metadata": {},
   "outputs": [
    {
     "data": {
      "text/plain": [
       "2"
      ]
     },
     "execution_count": 25,
     "metadata": {},
     "output_type": "execute_result"
    }
   ],
   "source": [
    "fomula.my_max(1, 2)"
   ]
  },
  {
   "cell_type": "code",
   "execution_count": 28,
   "id": "8eb85dff-8a09-4f4a-8618-2b9f98544363",
   "metadata": {},
   "outputs": [
    {
     "name": "stdout",
     "output_type": "stream",
     "text": [
      "2\n"
     ]
    },
    {
     "data": {
      "text/plain": [
       "3.14"
      ]
     },
     "execution_count": 28,
     "metadata": {},
     "output_type": "execute_result"
    }
   ],
   "source": [
    "import myPackage\n",
    "\n",
    "print(myPackage.math.fomula.my_max(1, 2))\n",
    "myPackage.math.fomula.pi"
   ]
  },
  {
   "cell_type": "code",
   "execution_count": 30,
   "id": "ec03d81e-98ad-43d1-b755-81381051e48b",
   "metadata": {},
   "outputs": [],
   "source": [
    "from myPackage.math.fibo import fib_loop"
   ]
  },
  {
   "cell_type": "code",
   "execution_count": 31,
   "id": "079f99eb-dd15-4019-a2d7-ff9dba3bd32c",
   "metadata": {},
   "outputs": [
    {
     "data": {
      "text/plain": [
       "8"
      ]
     },
     "execution_count": 31,
     "metadata": {},
     "output_type": "execute_result"
    }
   ],
   "source": [
    "fib_loop(5)"
   ]
  },
  {
   "cell_type": "code",
   "execution_count": 35,
   "id": "2e04584a-a20c-4652-b505-59fb117afba8",
   "metadata": {},
   "outputs": [],
   "source": [
    "from myPackage.math.fibo import * #내부의 모든 코드를 가져옴"
   ]
  },
  {
   "cell_type": "code",
   "execution_count": 33,
   "id": "3f848c19-1eac-4dd3-b502-2ecfd8cbf13d",
   "metadata": {},
   "outputs": [
    {
     "data": {
      "text/plain": [
       "8"
      ]
     },
     "execution_count": 33,
     "metadata": {},
     "output_type": "execute_result"
    }
   ],
   "source": [
    "fib_loop(5)"
   ]
  },
  {
   "cell_type": "code",
   "execution_count": 34,
   "id": "8d42f6ef-9ddd-4413-baac-9275b3e54c84",
   "metadata": {},
   "outputs": [
    {
     "data": {
      "text/plain": [
       "5"
      ]
     },
     "execution_count": 34,
     "metadata": {},
     "output_type": "execute_result"
    }
   ],
   "source": [
    "fib_rec(4)"
   ]
  },
  {
   "cell_type": "code",
   "execution_count": 42,
   "id": "36cb9604-4a5f-4c89-b66e-b87f1e260d08",
   "metadata": {},
   "outputs": [
    {
     "name": "stdout",
     "output_type": "stream",
     "text": [
      "1234\n",
      "<module 'myPackage.math.fomula' from 'C:\\\\Users\\\\19wlg\\\\Desktop\\\\boot_camp\\\\camp_31\\\\Python\\\\myPackage\\\\math\\\\fomula.py'>\n"
     ]
    }
   ],
   "source": [
    "# 불러오는 파일 이름 바꾸기\n",
    "\n",
    "fomula =1234\n",
    "from myPackage.math import fomula as f #fomula의 이름이 f로 바뀜\n",
    "\n",
    "print(fomula)\n",
    "print(f)"
   ]
  },
  {
   "cell_type": "markdown",
   "id": "cb919a8d-c9af-45e1-9953-a69ec84e9681",
   "metadata": {},
   "source": [
    "## 파이썬 내장 패키지\n",
    "\n",
    "### math"
   ]
  },
  {
   "cell_type": "code",
   "execution_count": 67,
   "id": "c6d53fdb-0824-43fb-be33-fa8ed6a2cd49",
   "metadata": {},
   "outputs": [
    {
     "data": {
      "text/plain": [
       "3.141592653589793"
      ]
     },
     "execution_count": 67,
     "metadata": {},
     "output_type": "execute_result"
    }
   ],
   "source": [
    "import math\n",
    "math.pi"
   ]
  },
  {
   "cell_type": "code",
   "execution_count": 70,
   "id": "5cd1dae0-5d9a-4b64-867d-e1ac06770ceb",
   "metadata": {},
   "outputs": [],
   "source": [
    "pi = 3.141592653589793"
   ]
  },
  {
   "cell_type": "code",
   "execution_count": 68,
   "id": "63ce6a9d-7b3f-48b8-a2c2-1210f29bbe51",
   "metadata": {},
   "outputs": [
    {
     "data": {
      "text/plain": [
       "2.718281828459045"
      ]
     },
     "execution_count": 68,
     "metadata": {},
     "output_type": "execute_result"
    }
   ],
   "source": [
    "math.e"
   ]
  },
  {
   "cell_type": "code",
   "execution_count": 71,
   "id": "32c772e1-1136-4774-9e2c-e8b0a2956aa1",
   "metadata": {},
   "outputs": [
    {
     "data": {
      "text/plain": [
       "4"
      ]
     },
     "execution_count": 71,
     "metadata": {},
     "output_type": "execute_result"
    }
   ],
   "source": [
    "math.ceil(pi) # 올림"
   ]
  },
  {
   "cell_type": "code",
   "execution_count": 72,
   "id": "7000cdff-7539-4cce-be58-501f4a87210a",
   "metadata": {},
   "outputs": [
    {
     "data": {
      "text/plain": [
       "120"
      ]
     },
     "execution_count": 72,
     "metadata": {},
     "output_type": "execute_result"
    }
   ],
   "source": [
    "math.factorial(5)"
   ]
  },
  {
   "cell_type": "markdown",
   "id": "2f4a3fec-99f6-48e5-aaf4-577847812149",
   "metadata": {},
   "source": [
    "### random"
   ]
  },
  {
   "cell_type": "code",
   "execution_count": 73,
   "id": "780df867-5fe6-4f38-a634-9d537ff7c755",
   "metadata": {},
   "outputs": [],
   "source": [
    "import random"
   ]
  },
  {
   "cell_type": "code",
   "execution_count": 121,
   "id": "a6074835-a397-4346-a3b5-9ae309e0d367",
   "metadata": {},
   "outputs": [
    {
     "data": {
      "text/plain": [
       "0.9478274870593494"
      ]
     },
     "execution_count": 121,
     "metadata": {},
     "output_type": "execute_result"
    }
   ],
   "source": [
    "random.random() # 0~1 사이의 랜덤 숫자"
   ]
  },
  {
   "cell_type": "code",
   "execution_count": 108,
   "id": "2fcfecb4-a2e8-43b7-b8ae-6dca273f10ff",
   "metadata": {},
   "outputs": [
    {
     "data": {
      "text/plain": [
       "15"
      ]
     },
     "execution_count": 108,
     "metadata": {},
     "output_type": "execute_result"
    }
   ],
   "source": [
    "random.randint(1, 20) # 정수 랜덤"
   ]
  },
  {
   "cell_type": "code",
   "execution_count": 120,
   "id": "04415682-c3b6-4318-a74b-1568189270a8",
   "metadata": {},
   "outputs": [
    {
     "data": {
      "text/plain": [
       "0.9560342718892494"
      ]
     },
     "execution_count": 120,
     "metadata": {},
     "output_type": "execute_result"
    }
   ],
   "source": [
    "random.seed(2) #2를 기반으로 계산한 랜덤값\n",
    "random.random()"
   ]
  },
  {
   "cell_type": "code",
   "execution_count": 126,
   "id": "4b68b235-e6ab-41d6-ad63-d3d49414c6de",
   "metadata": {},
   "outputs": [
    {
     "name": "stdout",
     "output_type": "stream",
     "text": [
      "[1, 2, 3, 4, 5]\n",
      "[5, 3, 4, 2, 1]\n"
     ]
    }
   ],
   "source": [
    "a = [1, 2, 3, 4, 5]\n",
    "print(a)\n",
    "random.shuffle(a) # 리스트 요소 순서를 무작위로 섞어줌\n",
    "print(a)"
   ]
  },
  {
   "cell_type": "code",
   "execution_count": 136,
   "id": "bae7060b-0aa4-4bdf-a5a8-8db0d1fb41ff",
   "metadata": {},
   "outputs": [
    {
     "data": {
      "text/plain": [
       "'바위'"
      ]
     },
     "execution_count": 136,
     "metadata": {},
     "output_type": "execute_result"
    }
   ],
   "source": [
    "rps = ['가위', '바위', '보'] \n",
    "random.choice(rps) # 리스트 안에서 무작위로 하나를 선택"
   ]
  },
  {
   "cell_type": "code",
   "execution_count": 137,
   "id": "be9400db-0ebe-425c-8cb2-bb30bf8187fe",
   "metadata": {},
   "outputs": [
    {
     "data": {
      "text/plain": [
       "[30, 21, 25, 28, 34, 11]"
      ]
     },
     "execution_count": 137,
     "metadata": {},
     "output_type": "execute_result"
    }
   ],
   "source": [
    "random.sample(range(1, 46), 6) #범위에서 원하는 만큼의 샘플을 뽑음"
   ]
  },
  {
   "cell_type": "markdown",
   "id": "19e75f11-25f4-4a51-916a-778f9cc8b2b1",
   "metadata": {},
   "source": [
    "### datetime"
   ]
  },
  {
   "cell_type": "code",
   "execution_count": 138,
   "id": "84fbf9c5-dadb-4afb-a28b-6be043f93706",
   "metadata": {},
   "outputs": [],
   "source": [
    "from datetime import datetime"
   ]
  },
  {
   "cell_type": "code",
   "execution_count": 151,
   "id": "6ad60b8a-e051-4da8-a448-dfd6e7bdc994",
   "metadata": {},
   "outputs": [
    {
     "data": {
      "text/plain": [
       "datetime.datetime(2023, 10, 11, 10, 21, 39, 681017)"
      ]
     },
     "execution_count": 151,
     "metadata": {},
     "output_type": "execute_result"
    }
   ],
   "source": [
    "datetime.now()"
   ]
  },
  {
   "cell_type": "code",
   "execution_count": 152,
   "id": "31fe3e98-4f58-4de3-96dd-27fe22457e23",
   "metadata": {},
   "outputs": [
    {
     "name": "stdout",
     "output_type": "stream",
     "text": [
      "2023-10-11 10:23:48.222705\n"
     ]
    }
   ],
   "source": [
    "today = datetime.today()\n",
    "print(today)"
   ]
  },
  {
   "cell_type": "code",
   "execution_count": 156,
   "id": "74331d36-b6c9-4e81-8677-5ba55361d524",
   "metadata": {},
   "outputs": [
    {
     "data": {
      "text/plain": [
       "datetime.datetime(2023, 10, 11, 1, 24, 46, 964706)"
      ]
     },
     "execution_count": 156,
     "metadata": {},
     "output_type": "execute_result"
    }
   ],
   "source": [
    "datetime.utcnow() #세계 표준 시간"
   ]
  },
  {
   "cell_type": "code",
   "execution_count": 164,
   "id": "1b70ce43-c529-446e-9f1f-cbb503ec953c",
   "metadata": {},
   "outputs": [
    {
     "data": {
      "text/plain": [
       "'2023년 10월 11일 Wed'"
      ]
     },
     "execution_count": 164,
     "metadata": {},
     "output_type": "execute_result"
    }
   ],
   "source": [
    "now = datetime.now()\n",
    "now.strftime('%Y년 %m월 %d일 %a') #시간을 str으로 format함"
   ]
  },
  {
   "cell_type": "code",
   "execution_count": 166,
   "id": "3fe37ba1-ea60-403c-b861-947ffaf9602a",
   "metadata": {},
   "outputs": [
    {
     "data": {
      "text/plain": [
       "2023"
      ]
     },
     "execution_count": 166,
     "metadata": {},
     "output_type": "execute_result"
    }
   ],
   "source": [
    "now.year"
   ]
  },
  {
   "cell_type": "code",
   "execution_count": 167,
   "id": "d346200f-a236-45b5-acf6-6f2cc7c4a764",
   "metadata": {},
   "outputs": [
    {
     "data": {
      "text/plain": [
       "11"
      ]
     },
     "execution_count": 167,
     "metadata": {},
     "output_type": "execute_result"
    }
   ],
   "source": [
    "now.day"
   ]
  },
  {
   "cell_type": "code",
   "execution_count": 168,
   "id": "bdcc3397-1a4d-44d0-9c1d-ed02e95069a0",
   "metadata": {},
   "outputs": [
    {
     "data": {
      "text/plain": [
       "2"
      ]
     },
     "execution_count": 168,
     "metadata": {},
     "output_type": "execute_result"
    }
   ],
   "source": [
    "# => 0~6 / 월~일\n",
    "now.weekday()"
   ]
  },
  {
   "cell_type": "code",
   "execution_count": 170,
   "id": "65931b5c-0e72-4e34-a286-f0323d136502",
   "metadata": {},
   "outputs": [
    {
     "name": "stdout",
     "output_type": "stream",
     "text": [
      "2023-01-01 00:00:00\n"
     ]
    }
   ],
   "source": [
    "#datetime도 연산 가능\n",
    "birth = datetime(2023, 1, 1)\n",
    "print(birth)"
   ]
  },
  {
   "cell_type": "code",
   "execution_count": 171,
   "id": "92ef32bb-b8a9-4f09-aff6-720fef76e562",
   "metadata": {},
   "outputs": [],
   "source": [
    "from datetime import timedelta"
   ]
  },
  {
   "cell_type": "code",
   "execution_count": 172,
   "id": "843a58c7-ebe4-4c15-974e-5f3142eff331",
   "metadata": {},
   "outputs": [
    {
     "name": "stdout",
     "output_type": "stream",
     "text": [
      "3 days, 0:00:00\n"
     ]
    }
   ],
   "source": [
    "future = timedelta(days=3)\n",
    "print(future)"
   ]
  },
  {
   "cell_type": "code",
   "execution_count": 173,
   "id": "e60ed954-8e4d-4f91-89f9-a0774f0b0210",
   "metadata": {},
   "outputs": [
    {
     "data": {
      "text/plain": [
       "datetime.datetime(2023, 1, 4, 0, 0)"
      ]
     },
     "execution_count": 173,
     "metadata": {},
     "output_type": "execute_result"
    }
   ],
   "source": [
    "birth + future"
   ]
  },
  {
   "cell_type": "code",
   "execution_count": 175,
   "id": "af298ec1-09ca-4944-b0ff-fbc543654fc1",
   "metadata": {},
   "outputs": [
    {
     "name": "stdout",
     "output_type": "stream",
     "text": [
      "81 days, 13:23:39.934513\n",
      "2024-01-19 10:36:20.065487\n"
     ]
    }
   ],
   "source": [
    "new_year = datetime(2024, 1, 1)\n",
    "now = datetime.now()\n",
    "f = timedelta(days=100)\n",
    "\n",
    "print(new_year - now)\n",
    "print(now + f)"
   ]
  }
 ],
 "metadata": {
  "kernelspec": {
   "display_name": "Python 3 (ipykernel)",
   "language": "python",
   "name": "python3"
  },
  "language_info": {
   "codemirror_mode": {
    "name": "ipython",
    "version": 3
   },
   "file_extension": ".py",
   "mimetype": "text/x-python",
   "name": "python",
   "nbconvert_exporter": "python",
   "pygments_lexer": "ipython3",
   "version": "3.11.5"
  }
 },
 "nbformat": 4,
 "nbformat_minor": 5
}
