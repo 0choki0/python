{
 "cells": [
  {
   "cell_type": "markdown",
   "id": "7381fb70-5582-4450-bc15-3a96ba9ec63c",
   "metadata": {},
   "source": [
    "# 01.intro"
   ]
  },
  {
   "cell_type": "markdown",
   "id": "7b78d792-36b7-4fee-95d1-c90d3e85f09b",
   "metadata": {},
   "source": [
    "## 단축키\n",
    "\n",
    "- ctrl + enter : 현재의 셀을 실행\n",
    "- shift + enter : 현재의 셀을 실행 & 다음 셀로 이동\n",
    "- alt + enter : 현재의 셀을 실행 & 새로운 셀을 추가"
   ]
  },
  {
   "cell_type": "markdown",
   "id": "05881243-91f7-42a7-a0e4-50f68448f4d7",
   "metadata": {},
   "source": [
    "## 팁\n",
    "- jupyter에서 실행은 셀 좌측 번호 순으로 실행된다.\n",
    "- Kernel에서 실행 순서를 초기화 할 수 있다.\n",
    "- `*`은 셀이 실행중임을 의미한다."
   ]
  },
  {
   "cell_type": "code",
   "execution_count": null,
   "id": "3c0f14ce-fb50-46e5-bc50-11b055605c94",
   "metadata": {},
   "outputs": [],
   "source": [
    "#주석입니다."
   ]
  },
  {
   "cell_type": "markdown",
   "id": "cdfe0855-9f46-434f-be6b-405940a89259",
   "metadata": {},
   "source": [
    "## 1. 변수\n",
    "\n",
    "변수이름 = 값\n",
    "\n",
    "- 변수이름은 어떤 이름이든 상관 없음\n",
    "- 영어, 숫자, `_`를 이용하여 선언\n",
    "- 키워드는 사용불가"
   ]
  },
  {
   "cell_type": "code",
   "execution_count": 8,
   "id": "183c64a9-2bea-4eb9-9b74-7f91a786601d",
   "metadata": {},
   "outputs": [],
   "source": [
    "a = 10"
   ]
  },
  {
   "cell_type": "code",
   "execution_count": 9,
   "id": "01279361-2fd5-4f27-af7d-ff2ad515029e",
   "metadata": {},
   "outputs": [
    {
     "data": {
      "text/plain": [
       "10"
      ]
     },
     "execution_count": 9,
     "metadata": {},
     "output_type": "execute_result"
    }
   ],
   "source": [
    "a"
   ]
  },
  {
   "cell_type": "code",
   "execution_count": 10,
   "id": "912378f3-c32c-412f-9390-6452d583f948",
   "metadata": {},
   "outputs": [
    {
     "data": {
      "text/plain": [
       "['False',\n",
       " 'None',\n",
       " 'True',\n",
       " 'and',\n",
       " 'as',\n",
       " 'assert',\n",
       " 'async',\n",
       " 'await',\n",
       " 'break',\n",
       " 'class',\n",
       " 'continue',\n",
       " 'def',\n",
       " 'del',\n",
       " 'elif',\n",
       " 'else',\n",
       " 'except',\n",
       " 'finally',\n",
       " 'for',\n",
       " 'from',\n",
       " 'global',\n",
       " 'if',\n",
       " 'import',\n",
       " 'in',\n",
       " 'is',\n",
       " 'lambda',\n",
       " 'nonlocal',\n",
       " 'not',\n",
       " 'or',\n",
       " 'pass',\n",
       " 'raise',\n",
       " 'return',\n",
       " 'try',\n",
       " 'while',\n",
       " 'with',\n",
       " 'yield']"
      ]
     },
     "execution_count": 10,
     "metadata": {},
     "output_type": "execute_result"
    }
   ],
   "source": [
    "import keyword\n",
    "keyword.kwlist"
   ]
  },
  {
   "cell_type": "markdown",
   "id": "634dfb7c-1a88-47c1-9938-0e96bf83935c",
   "metadata": {},
   "source": [
    "### 1.1 number"
   ]
  },
  {
   "cell_type": "code",
   "execution_count": 11,
   "id": "6803ef52-7b6f-4560-86d8-8d9af036e915",
   "metadata": {},
   "outputs": [],
   "source": [
    "a = 100"
   ]
  },
  {
   "cell_type": "code",
   "execution_count": 12,
   "id": "7f6a0aeb-c49d-49b5-ab93-9503671018fd",
   "metadata": {},
   "outputs": [
    {
     "data": {
      "text/plain": [
       "100"
      ]
     },
     "execution_count": 12,
     "metadata": {},
     "output_type": "execute_result"
    }
   ],
   "source": [
    "a"
   ]
  },
  {
   "cell_type": "code",
   "execution_count": 15,
   "id": "0d1059a7-962e-498b-9b04-2a9b00f97c6d",
   "metadata": {},
   "outputs": [
    {
     "data": {
      "text/plain": [
       "int"
      ]
     },
     "execution_count": 15,
     "metadata": {},
     "output_type": "execute_result"
    }
   ],
   "source": [
    "type(a) #()가 무슨 타입인지 나타냄. 위에서 a는 100 즉, 정수임을 나타내게 됨."
   ]
  },
  {
   "cell_type": "code",
   "execution_count": 16,
   "id": "4f58813b-4944-43a2-a575-04831135e171",
   "metadata": {},
   "outputs": [],
   "source": [
    "b = 1.1"
   ]
  },
  {
   "cell_type": "code",
   "execution_count": 17,
   "id": "ec9058c5-1bfb-4600-bfa6-1a3b17acfbb0",
   "metadata": {},
   "outputs": [
    {
     "data": {
      "text/plain": [
       "1.1"
      ]
     },
     "execution_count": 17,
     "metadata": {},
     "output_type": "execute_result"
    }
   ],
   "source": [
    "b"
   ]
  },
  {
   "cell_type": "code",
   "execution_count": 19,
   "id": "836d172f-0920-4d7d-b0c5-9e588261041e",
   "metadata": {},
   "outputs": [
    {
     "data": {
      "text/plain": [
       "float"
      ]
     },
     "execution_count": 19,
     "metadata": {},
     "output_type": "execute_result"
    }
   ],
   "source": [
    "type(b) #b는 1.1 즉, 소수임을 나타내게 됨."
   ]
  },
  {
   "cell_type": "code",
   "execution_count": 26,
   "id": "be1779a3-df7f-4d07-be52-064cb79aa508",
   "metadata": {},
   "outputs": [],
   "source": [
    "c = 1-4j"
   ]
  },
  {
   "cell_type": "code",
   "execution_count": 27,
   "id": "1d5759d9-ad95-45b7-8f5c-76e4b0b2ad73",
   "metadata": {},
   "outputs": [
    {
     "data": {
      "text/plain": [
       "(1-4j)"
      ]
     },
     "execution_count": 27,
     "metadata": {},
     "output_type": "execute_result"
    }
   ],
   "source": [
    "c"
   ]
  },
  {
   "cell_type": "code",
   "execution_count": 28,
   "id": "ffdfe3fe-ff0b-4e9d-aa6b-4c869af88199",
   "metadata": {},
   "outputs": [
    {
     "data": {
      "text/plain": [
       "complex"
      ]
     },
     "execution_count": 28,
     "metadata": {},
     "output_type": "execute_result"
    }
   ],
   "source": [
    "type(c) #c는 1-4j 즉, 복소수임을 나타내게 됨."
   ]
  },
  {
   "cell_type": "code",
   "execution_count": 29,
   "id": "29f14d9f-056a-4e18-82b8-b950c23ef2ab",
   "metadata": {},
   "outputs": [
    {
     "data": {
      "text/plain": [
       "1.0"
      ]
     },
     "execution_count": 29,
     "metadata": {},
     "output_type": "execute_result"
    }
   ],
   "source": [
    "c.real #복소수에서 실수 부분을 나타냄."
   ]
  },
  {
   "cell_type": "code",
   "execution_count": 31,
   "id": "c47c0ea3-45aa-4e98-8de3-2e88234d80db",
   "metadata": {},
   "outputs": [
    {
     "data": {
      "text/plain": [
       "-4.0"
      ]
     },
     "execution_count": 31,
     "metadata": {},
     "output_type": "execute_result"
    }
   ],
   "source": [
    "c.imag #복소수에서 허수 부분을 나타냄."
   ]
  },
  {
   "cell_type": "markdown",
   "id": "bb329a0c-999f-4536-b543-29e4dc7f73fb",
   "metadata": {},
   "source": [
    "### 1.2 Boolean\n",
    "`True`, `False`로 이루어진 타입"
   ]
  },
  {
   "cell_type": "code",
   "execution_count": 32,
   "id": "cd9b376b-b175-47c5-a883-01c88ac1a87e",
   "metadata": {},
   "outputs": [],
   "source": [
    "a = True"
   ]
  },
  {
   "cell_type": "code",
   "execution_count": 34,
   "id": "5af9b6f1-3efc-472b-82d1-18e8c8678cd5",
   "metadata": {},
   "outputs": [
    {
     "data": {
      "text/plain": [
       "bool"
      ]
     },
     "execution_count": 34,
     "metadata": {},
     "output_type": "execute_result"
    }
   ],
   "source": [
    "type(a)"
   ]
  },
  {
   "cell_type": "markdown",
   "id": "20379cfc-b082-4d36-9928-5e7ef5a8ef10",
   "metadata": {},
   "source": [
    "### 1.3 None\n",
    "데이터가 없음을 의미"
   ]
  },
  {
   "cell_type": "code",
   "execution_count": 35,
   "id": "ef1816d1-9de7-4a0b-b89e-5f21f2d45c86",
   "metadata": {},
   "outputs": [],
   "source": [
    "a = None"
   ]
  },
  {
   "cell_type": "code",
   "execution_count": 36,
   "id": "be8d3897-5201-4cc5-b7c6-4c94f0a6c7ce",
   "metadata": {},
   "outputs": [
    {
     "data": {
      "text/plain": [
       "NoneType"
      ]
     },
     "execution_count": 36,
     "metadata": {},
     "output_type": "execute_result"
    }
   ],
   "source": [
    "type(a)"
   ]
  },
  {
   "cell_type": "markdown",
   "id": "cf2e93b6-5fe8-43af-a366-217663d23ee8",
   "metadata": {},
   "source": [
    "### 1.4 String\n",
    "- 문자열은 `'`,`\"`를 이용하여 표현"
   ]
  },
  {
   "cell_type": "code",
   "execution_count": 37,
   "id": "89033112-3b9e-4961-9937-f12657410386",
   "metadata": {},
   "outputs": [],
   "source": [
    "a = 'hello'"
   ]
  },
  {
   "cell_type": "code",
   "execution_count": 38,
   "id": "ab1dfa96-240f-4552-a48f-9207861b39f5",
   "metadata": {},
   "outputs": [
    {
     "data": {
      "text/plain": [
       "str"
      ]
     },
     "execution_count": 38,
     "metadata": {},
     "output_type": "execute_result"
    }
   ],
   "source": [
    "type(a)"
   ]
  },
  {
   "cell_type": "code",
   "execution_count": 39,
   "id": "89cc20fd-484c-43b9-a55c-38811a086e20",
   "metadata": {},
   "outputs": [],
   "source": [
    "b = \"world\""
   ]
  },
  {
   "cell_type": "code",
   "execution_count": 40,
   "id": "95d8f36a-61b9-46c9-8c13-ccf8b09ff7b7",
   "metadata": {},
   "outputs": [
    {
     "data": {
      "text/plain": [
       "str"
      ]
     },
     "execution_count": 40,
     "metadata": {},
     "output_type": "execute_result"
    }
   ],
   "source": [
    "type(b)"
   ]
  },
  {
   "cell_type": "code",
   "execution_count": 48,
   "id": "255c64d0-9532-41a8-90e4-81b7ef3bc1af",
   "metadata": {},
   "outputs": [
    {
     "name": "stdin",
     "output_type": "stream",
     "text": [
      " 111111\n"
     ]
    }
   ],
   "source": [
    "age = input() #input()는 () 안의 데이터를 의미. 단, str 데이터."
   ]
  },
  {
   "cell_type": "code",
   "execution_count": 49,
   "id": "ffd3fe2f-eb79-484b-9b00-58ad3b10e4bd",
   "metadata": {},
   "outputs": [
    {
     "data": {
      "text/plain": [
       "'111111'"
      ]
     },
     "execution_count": 49,
     "metadata": {},
     "output_type": "execute_result"
    }
   ],
   "source": [
    "age"
   ]
  },
  {
   "cell_type": "code",
   "execution_count": 50,
   "id": "ce4344d1-1908-43b7-ae93-0b42c3e2abba",
   "metadata": {},
   "outputs": [
    {
     "data": {
      "text/plain": [
       "str"
      ]
     },
     "execution_count": 50,
     "metadata": {},
     "output_type": "execute_result"
    }
   ],
   "source": [
    "type(age)"
   ]
  },
  {
   "cell_type": "code",
   "execution_count": 52,
   "id": "50389b33-ecc1-439c-a6ad-f4fe40b5657b",
   "metadata": {},
   "outputs": [
    {
     "ename": "SyntaxError",
     "evalue": "invalid syntax. Perhaps you forgot a comma? (3629998706.py, line 1)",
     "output_type": "error",
     "traceback": [
      "\u001b[1;36m  Cell \u001b[1;32mIn[52], line 1\u001b[1;36m\u001b[0m\n\u001b[1;33m    print('안녕하세요?' 이지호'입니다.')\u001b[0m\n\u001b[1;37m          ^\u001b[0m\n\u001b[1;31mSyntaxError\u001b[0m\u001b[1;31m:\u001b[0m invalid syntax. Perhaps you forgot a comma?\n"
     ]
    }
   ],
   "source": [
    "print('안녕하세요?' 이지호'입니다.')"
   ]
  },
  {
   "cell_type": "code",
   "execution_count": 53,
   "id": "ec0691e5-a43f-407d-bf11-9ce9796018cb",
   "metadata": {},
   "outputs": [
    {
     "name": "stdout",
     "output_type": "stream",
     "text": [
      "안녕하세요? '이지호'입니다.\n"
     ]
    }
   ],
   "source": [
    "print(\"안녕하세요? '이지호'입니다.\")"
   ]
  },
  {
   "cell_type": "code",
   "execution_count": 55,
   "id": "e263b7e8-eeb6-4589-93b3-1f2932ceaa1c",
   "metadata": {},
   "outputs": [
    {
     "name": "stdout",
     "output_type": "stream",
     "text": [
      "안녕하세요? '이지호'입니다.\n"
     ]
    }
   ],
   "source": [
    "print('안녕하세요? \\'이지호\\'입니다.')"
   ]
  },
  {
   "cell_type": "code",
   "execution_count": 61,
   "id": "562e6706-d982-44e7-8e9a-05041375b73e",
   "metadata": {},
   "outputs": [],
   "source": [
    "a = '''\n",
    "여기는 문자열 입니다.\n",
    "여러줄을 작성할 수 있습니다.\n",
    "'''\n",
    "#'''를 사용해 여러줄을 만들 수 있음."
   ]
  },
  {
   "cell_type": "code",
   "execution_count": 62,
   "id": "050f1407-c164-4a83-bade-08764d60347d",
   "metadata": {},
   "outputs": [
    {
     "data": {
      "text/plain": [
       "'\\n여기는 문자열 입니다.\\n여러줄을 작성할 수 있습니다.\\n'"
      ]
     },
     "execution_count": 62,
     "metadata": {},
     "output_type": "execute_result"
    }
   ],
   "source": [
    "a"
   ]
  },
  {
   "cell_type": "code",
   "execution_count": 63,
   "id": "8a1a14bc-5ec8-479c-bf51-26541eac35ea",
   "metadata": {},
   "outputs": [
    {
     "name": "stdout",
     "output_type": "stream",
     "text": [
      "\n",
      "여기는 문자열 입니다.\n",
      "여러줄을 작성할 수 있습니다.\n",
      "\n"
     ]
    }
   ],
   "source": [
    "print(a)"
   ]
  },
  {
   "cell_type": "code",
   "execution_count": 64,
   "id": "e3eecec2-d9ed-44bf-aa00-637f8130eef7",
   "metadata": {},
   "outputs": [
    {
     "name": "stdout",
     "output_type": "stream",
     "text": [
      "하나 둘 셋\n"
     ]
    }
   ],
   "source": [
    "print('하나','둘','셋')"
   ]
  },
  {
   "cell_type": "markdown",
   "id": "f60a185d-a06f-434b-aab9-c2d06165eb3e",
   "metadata": {},
   "source": [
    "#### string interpolation\n",
    "\n",
    "1. %-fomtting\n",
    "2. str.format()\n",
    "3. f-string"
   ]
  },
  {
   "cell_type": "code",
   "execution_count": 67,
   "id": "f3b6d6e1-b3ff-4729-9673-272e0c183c16",
   "metadata": {},
   "outputs": [],
   "source": [
    "age = 10"
   ]
  },
  {
   "cell_type": "code",
   "execution_count": 72,
   "id": "11a23721-17ac-4d67-b9d6-537e80ffe0a9",
   "metadata": {},
   "outputs": [
    {
     "name": "stdout",
     "output_type": "stream",
     "text": [
      "홍길동은 10살입니다.\n"
     ]
    }
   ],
   "source": [
    "print('홍길동은 %s살입니다.'%age) #%s부분에 %<변수이름>를 나타냄"
   ]
  },
  {
   "cell_type": "code",
   "execution_count": 73,
   "id": "41e5d7c6-feea-4a8b-8962-63dd8cb519cf",
   "metadata": {},
   "outputs": [
    {
     "name": "stdout",
     "output_type": "stream",
     "text": [
      "홍길동은 10살입니다.\n"
     ]
    }
   ],
   "source": [
    "print('홍길동은 {}살입니다.'.format(age)) #{}안에 .format(<변수이름>)를 나타냄"
   ]
  },
  {
   "cell_type": "code",
   "execution_count": 75,
   "id": "79bb5087-3afe-46cd-a7be-92cb2afb5115",
   "metadata": {},
   "outputs": [
    {
     "name": "stdout",
     "output_type": "stream",
     "text": [
      "홍길동은 10살입니다.\n"
     ]
    }
   ],
   "source": [
    "print(f'홍길동은 {age}살입니다.') #{<변수이름>}을 나타냄"
   ]
  },
  {
   "cell_type": "markdown",
   "id": "391c2a7d-422c-4bb3-9c1a-a2f32f44a20a",
   "metadata": {},
   "source": [
    "## 연산자\n",
    "\n",
    "### 2.1 산술연산자"
   ]
  },
  {
   "cell_type": "code",
   "execution_count": 77,
   "id": "7cb4e428-18a2-4673-801f-f15331e22fe1",
   "metadata": {},
   "outputs": [],
   "source": [
    "a = 2\n",
    "b = 3"
   ]
  },
  {
   "cell_type": "code",
   "execution_count": 79,
   "id": "24d7c6ed-a34a-45d6-9421-40aadd8a4e65",
   "metadata": {},
   "outputs": [
    {
     "name": "stdout",
     "output_type": "stream",
     "text": [
      "5\n",
      "-1\n",
      "6\n",
      "0.6666666666666666\n"
     ]
    }
   ],
   "source": [
    "print(a + b)\n",
    "print(a - b)\n",
    "print(a * b)\n",
    "print(a / b)"
   ]
  },
  {
   "cell_type": "code",
   "execution_count": 81,
   "id": "df7f843e-bca0-4abe-b610-4c1e8fa799b5",
   "metadata": {},
   "outputs": [
    {
     "name": "stdout",
     "output_type": "stream",
     "text": [
      "8\n",
      "0\n",
      "2\n",
      "(0, 2)\n"
     ]
    }
   ],
   "source": [
    "print(a ** b) #a를 b번 곱함 (지수)\n",
    "print(a // b) #a를 b로 나눈 몫을 출력\n",
    "print(a % b) #a를 b로 나눈 나머지를 출력\n",
    "print(divmod(a, b)) #a를 b로 나누고 몫과 나머지를 출력"
   ]
  },
  {
   "cell_type": "markdown",
   "id": "a1d6a9c9-b39d-4ab6-8b51-565b9dbe3ee6",
   "metadata": {},
   "source": [
    "### 2.2 비교연산자"
   ]
  },
  {
   "cell_type": "code",
   "execution_count": 82,
   "id": "84baa960-5255-4e82-b078-de189fe6a2a4",
   "metadata": {},
   "outputs": [],
   "source": [
    "a = 5\n",
    "b = 10"
   ]
  },
  {
   "cell_type": "code",
   "execution_count": 86,
   "id": "e9cfb13f-9dca-4b62-86fe-95c2b2d1243c",
   "metadata": {},
   "outputs": [
    {
     "name": "stdout",
     "output_type": "stream",
     "text": [
      "False\n",
      "True\n",
      "False\n",
      "True\n",
      "False\n",
      "True\n"
     ]
    }
   ],
   "source": [
    "print(a > b) #비교연산자는 boolean을 물어봄\n",
    "print(a < b) \n",
    "print(a >= b) #같거나 큰지\n",
    "print(a <= b) #같거나 작은지\n",
    "print(a == b) #양쪽의 데이터가 같은지 비교\n",
    "print(a != b) #양쪽의 데이터가 다른지 비교"
   ]
  },
  {
   "cell_type": "code",
   "execution_count": 88,
   "id": "1b4303f7-307c-40b2-a8ff-b6c830b53ea7",
   "metadata": {},
   "outputs": [
    {
     "name": "stdout",
     "output_type": "stream",
     "text": [
      "True\n",
      "True\n"
     ]
    }
   ],
   "source": [
    "print('hi' == 'hi')\n",
    "print('hi' != 'Hi')"
   ]
  },
  {
   "cell_type": "markdown",
   "id": "4018a45f-fc78-4038-9126-4a6ce5153670",
   "metadata": {},
   "source": [
    "### 2.3 논리연산자\n",
    "- `and` : 양쪽 모두 `Ture`일 때, True를 반환\n",
    "- `or` : 양쪽 모두 `False`일 때, False를 반환\n",
    "- `not` : 값을 반대로 전환"
   ]
  },
  {
   "cell_type": "code",
   "execution_count": 91,
   "id": "ac3fe7e5-802d-433f-933a-20dbdeaf896a",
   "metadata": {},
   "outputs": [
    {
     "name": "stdout",
     "output_type": "stream",
     "text": [
      "True\n",
      "False\n",
      "False\n",
      "False\n"
     ]
    }
   ],
   "source": [
    "print(True and True) # and는 둘 중 하나라도 False면 False를 반환\n",
    "print(True and False)\n",
    "print(False and True)\n",
    "print(False and False)"
   ]
  },
  {
   "cell_type": "code",
   "execution_count": 92,
   "id": "9dd4bfd6-1363-4aef-9a9d-54c57b03bbb2",
   "metadata": {},
   "outputs": [
    {
     "name": "stdout",
     "output_type": "stream",
     "text": [
      "True\n",
      "True\n",
      "True\n",
      "False\n"
     ]
    }
   ],
   "source": [
    "print(True or True) # or은 둘 중 하나라도 True면 True를 반환\n",
    "print(True or False)\n",
    "print(False or True)\n",
    "print(False or False)"
   ]
  },
  {
   "cell_type": "code",
   "execution_count": 99,
   "id": "afee66c2-5b47-4fde-905c-7c52a70c6c6d",
   "metadata": {},
   "outputs": [
    {
     "name": "stdout",
     "output_type": "stream",
     "text": [
      "True\n",
      "False\n",
      "False\n"
     ]
    }
   ],
   "source": [
    "print(True)\n",
    "print(not True) # not은 반대로 바꿈\n",
    "\n",
    "a = True\n",
    "print(not a)"
   ]
  },
  {
   "cell_type": "code",
   "execution_count": 105,
   "id": "da7977b4-f7ba-41e8-bf61-632e34dec337",
   "metadata": {},
   "outputs": [
    {
     "name": "stdout",
     "output_type": "stream",
     "text": [
      "5\n",
      "0\n",
      "0\n",
      "0\n"
     ]
    }
   ],
   "source": [
    "# 단축평가(and)\n",
    "print(3 and 5) #앞의 데이터가 True이고 뒤의 데이터가 True인데 마지막 True를 반환.\n",
    "print(3 and 0)\n",
    "print(0 and 5) #앞의 데이터가 False이므로 False를 바로 반환. 뒤의 데이터 중요하지 않음.\n",
    "print(0 and 0)"
   ]
  },
  {
   "cell_type": "code",
   "execution_count": 106,
   "id": "e16c32dc-2ef2-4462-81a5-380ffadd1f85",
   "metadata": {},
   "outputs": [
    {
     "name": "stdout",
     "output_type": "stream",
     "text": [
      "3\n",
      "3\n",
      "5\n",
      "0\n"
     ]
    }
   ],
   "source": [
    "# 단축평가(or)\n",
    "print(3 or 5) #앞의 데이터가 True이므로 True를 바로 반환. 뒤의 데이터 중요하지 않음\n",
    "print(3 or 0) \n",
    "print(0 or 5)\n",
    "print(0 or 0) #앞의 데이터가 False이고 뒤의 데이터가 False인데 마지막 False를 반환."
   ]
  },
  {
   "cell_type": "markdown",
   "id": "7296ed5f-df1d-4237-ba57-d0515160b495",
   "metadata": {},
   "source": [
    "### 2.4 복합연산자"
   ]
  },
  {
   "cell_type": "code",
   "execution_count": 109,
   "id": "ca9a386d-fd47-46ab-b94b-e8a4362f66db",
   "metadata": {},
   "outputs": [],
   "source": [
    "a = 2\n",
    "b = 3"
   ]
  },
  {
   "cell_type": "code",
   "execution_count": 114,
   "id": "8533de71-45ad-44b8-a232-5bbe72acea4e",
   "metadata": {},
   "outputs": [],
   "source": [
    "a = a + b\n",
    "a = a - b\n",
    "a = a * b\n",
    "a = a / b\n",
    "a = a ** b\n",
    "a = a // b\n",
    "a = a % b"
   ]
  },
  {
   "cell_type": "code",
   "execution_count": 115,
   "id": "592ef56a-1bae-4c3b-8d52-04a4c504736c",
   "metadata": {},
   "outputs": [
    {
     "name": "stdout",
     "output_type": "stream",
     "text": [
      "2.0\n"
     ]
    }
   ],
   "source": [
    "print(a)"
   ]
  },
  {
   "cell_type": "code",
   "execution_count": 116,
   "id": "24ceee3d-dac3-47a6-ac81-ddc0449ea13e",
   "metadata": {},
   "outputs": [],
   "source": [
    "a += b\n",
    "a -= b\n",
    "a *= b\n",
    "a /= b\n",
    "a **= b\n",
    "a //= b\n",
    "a %= b"
   ]
  },
  {
   "cell_type": "code",
   "execution_count": 117,
   "id": "a4357659-8339-4825-b7eb-abd567bb80e0",
   "metadata": {},
   "outputs": [
    {
     "name": "stdout",
     "output_type": "stream",
     "text": [
      "2.0\n"
     ]
    }
   ],
   "source": [
    "print(a)"
   ]
  },
  {
   "cell_type": "markdown",
   "id": "803df981-42fb-4877-840c-85556feacaf8",
   "metadata": {},
   "source": [
    "### 2.5 기타연산자"
   ]
  },
  {
   "cell_type": "code",
   "execution_count": 126,
   "id": "405d7408-b965-42ea-9455-09b886f9814b",
   "metadata": {},
   "outputs": [],
   "source": [
    "a = 'hi, '\n",
    "b = 'bro'"
   ]
  },
  {
   "cell_type": "code",
   "execution_count": 128,
   "id": "829b6222-ba19-4715-a120-5d4a2d97ba38",
   "metadata": {},
   "outputs": [
    {
     "data": {
      "text/plain": [
       "'hi, bro'"
      ]
     },
     "execution_count": 128,
     "metadata": {},
     "output_type": "execute_result"
    }
   ],
   "source": [
    "# concatenastion\n",
    "a + b"
   ]
  },
  {
   "cell_type": "code",
   "execution_count": 129,
   "id": "09080cd7-e74d-4a04-bc75-7d766daa8b71",
   "metadata": {},
   "outputs": [],
   "source": [
    "a = [1, 2, 3]\n",
    "b = [4, 5, 6]"
   ]
  },
  {
   "cell_type": "code",
   "execution_count": 130,
   "id": "fbec5f3e-76b8-450a-bed4-d7e3f0265d26",
   "metadata": {},
   "outputs": [
    {
     "data": {
      "text/plain": [
       "[1, 2, 3, 4, 5, 6]"
      ]
     },
     "execution_count": 130,
     "metadata": {},
     "output_type": "execute_result"
    }
   ],
   "source": [
    "a + b"
   ]
  },
  {
   "cell_type": "code",
   "execution_count": 132,
   "id": "9cfe26f2-2c14-442e-930f-35b609813e06",
   "metadata": {},
   "outputs": [
    {
     "name": "stdout",
     "output_type": "stream",
     "text": [
      "True\n",
      "False\n",
      "True\n",
      "False\n"
     ]
    }
   ],
   "source": [
    "print('a' in 'apple') #앞의 문자가 뒤의 문자에 들어있는지 물음\n",
    "print('z' in 'apple')\n",
    "print(1 in [1, 2, 3])\n",
    "print(0 in [1, 2, 3])"
   ]
  },
  {
   "cell_type": "code",
   "execution_count": 137,
   "id": "0a7030aa-9eef-402a-9378-0c601ad8ef9d",
   "metadata": {},
   "outputs": [
    {
     "name": "stdout",
     "output_type": "stream",
     "text": [
      "False\n",
      "True\n"
     ]
    }
   ],
   "source": [
    "a = 123123\n",
    "b = 123123\n",
    "print(a is b) # a와 b의 메모리 주소가 다르기 때문에 a와 b는 같지 않음\n",
    "\n",
    "a = 10\n",
    "b = 10\n",
    "print(a is b) # (-5~256은)python에서 이미 할당 되어있기에 a와 b의 주소가 같아서 서로 같다고 봄"
   ]
  },
  {
   "cell_type": "markdown",
   "id": "d220db73-1764-4529-aeb3-880b682e4a25",
   "metadata": {},
   "source": [
    "#### 연산자 우선순위\n",
    "\n",
    "0. ()를 통해 그룹\n",
    "1. **\n",
    "2. 산술연산자(*, /)\n",
    "3. 산술연산자(+, -)\n",
    "4. 비교연산자, is, in\n",
    "5. not\n",
    "6. and, or"
   ]
  },
  {
   "cell_type": "code",
   "execution_count": 139,
   "id": "cef0ac7f-46ca-46b2-895f-7e942c049543",
   "metadata": {},
   "outputs": [
    {
     "name": "stdout",
     "output_type": "stream",
     "text": [
      "-81\n",
      "81\n"
     ]
    }
   ],
   "source": [
    "print(-3 ** 4)\n",
    "print((-3) ** 4)"
   ]
  },
  {
   "cell_type": "markdown",
   "id": "f5e2cab1-1c5e-406e-bf54-82041130d3ba",
   "metadata": {},
   "source": [
    "## 3. 형변환\n",
    "\n",
    "### 3.1 암시적 형변환"
   ]
  },
  {
   "cell_type": "code",
   "execution_count": 140,
   "id": "d8769ff0-b7db-4d58-911a-993c24fcb169",
   "metadata": {},
   "outputs": [],
   "source": [
    "a = True\n",
    "b = False\n",
    "c = 1"
   ]
  },
  {
   "cell_type": "code",
   "execution_count": 142,
   "id": "4a9db661-1ccc-4874-9dd9-e90713fe1803",
   "metadata": {},
   "outputs": [
    {
     "name": "stdout",
     "output_type": "stream",
     "text": [
      "2\n",
      "1\n"
     ]
    }
   ],
   "source": [
    "print(a + c) #True는 1로 바뀜\n",
    "print(b + c) #False는 0으로 바뀜"
   ]
  },
  {
   "cell_type": "code",
   "execution_count": 143,
   "id": "43494424-7358-42ce-b412-f8809b119df8",
   "metadata": {},
   "outputs": [],
   "source": [
    "int_num = 3\n",
    "float_num = 3.3\n",
    "complex_num = 3 + 3j"
   ]
  },
  {
   "cell_type": "code",
   "execution_count": 144,
   "id": "8f455699-953f-46aa-822a-11e4cc341194",
   "metadata": {},
   "outputs": [
    {
     "name": "stdout",
     "output_type": "stream",
     "text": [
      "6.3\n",
      "(6+3j)\n"
     ]
    }
   ],
   "source": [
    "print(int_num + float_num)\n",
    "print(int_num + complex_num)"
   ]
  },
  {
   "cell_type": "markdown",
   "id": "de63e7e5-0f08-4d20-8d85-09dd9f212057",
   "metadata": {},
   "source": [
    "### 3.2 명시적 형변환"
   ]
  },
  {
   "cell_type": "code",
   "execution_count": 145,
   "id": "b52fd94b-662f-459d-8bba-18986217bcb7",
   "metadata": {},
   "outputs": [],
   "source": [
    "a = 1\n",
    "b = '번'"
   ]
  },
  {
   "cell_type": "code",
   "execution_count": 146,
   "id": "6b1bf01d-d96f-4a9c-93ab-eaa086bccb0c",
   "metadata": {},
   "outputs": [
    {
     "name": "stdout",
     "output_type": "stream",
     "text": [
      "1번\n"
     ]
    }
   ],
   "source": [
    "print(str(a) + b)"
   ]
  },
  {
   "cell_type": "code",
   "execution_count": 148,
   "id": "123f943c-ac82-4d97-85b6-dd563182f029",
   "metadata": {},
   "outputs": [
    {
     "name": "stdout",
     "output_type": "stream",
     "text": [
      "<class 'int'>\n"
     ]
    }
   ],
   "source": [
    "a = '100'\n",
    "print(type(int(a)))"
   ]
  },
  {
   "cell_type": "code",
   "execution_count": 150,
   "id": "62a8be30-0b8a-44b8-ae09-e848d39560f3",
   "metadata": {},
   "outputs": [
    {
     "name": "stdin",
     "output_type": "stream",
     "text": [
      " 28\n"
     ]
    },
    {
     "name": "stdout",
     "output_type": "stream",
     "text": [
      "<class 'str'>\n"
     ]
    }
   ],
   "source": [
    "age = input()\n",
    "print(type(age))"
   ]
  },
  {
   "cell_type": "code",
   "execution_count": 151,
   "id": "fc71442a-8794-4bba-a33a-2163c1efccff",
   "metadata": {},
   "outputs": [],
   "source": [
    "a = '3.3'"
   ]
  },
  {
   "cell_type": "code",
   "execution_count": 152,
   "id": "0f865179-4f2f-45e7-996a-ef6c3107a42a",
   "metadata": {},
   "outputs": [
    {
     "data": {
      "text/plain": [
       "float"
      ]
     },
     "execution_count": 152,
     "metadata": {},
     "output_type": "execute_result"
    }
   ],
   "source": [
    "type(float(a))"
   ]
  },
  {
   "cell_type": "code",
   "execution_count": 153,
   "id": "da806e3d-5eeb-41b1-8b19-100b290c623a",
   "metadata": {},
   "outputs": [],
   "source": [
    "a = 1\n",
    "b = 0\n",
    "c = 100"
   ]
  },
  {
   "cell_type": "code",
   "execution_count": 158,
   "id": "bb00c8c4-b56e-4943-bd19-e88a10af496b",
   "metadata": {},
   "outputs": [
    {
     "name": "stdout",
     "output_type": "stream",
     "text": [
      "True\n",
      "False\n",
      "True\n"
     ]
    }
   ],
   "source": [
    "print(bool(a))\n",
    "print(bool(b))\n",
    "print(bool(c))"
   ]
  },
  {
   "cell_type": "code",
   "execution_count": 163,
   "id": "ac6ba762-1ca0-407a-861e-a9622f254684",
   "metadata": {},
   "outputs": [
    {
     "name": "stdout",
     "output_type": "stream",
     "text": [
      "False\n",
      "True\n"
     ]
    }
   ],
   "source": [
    "print(bool('')) #공백이기 때문에 False 출력\n",
    "print(bool('a'))"
   ]
  },
  {
   "cell_type": "code",
   "execution_count": 162,
   "id": "7c49358f-e98c-4b10-8285-393e8b8c7aa5",
   "metadata": {},
   "outputs": [
    {
     "name": "stdout",
     "output_type": "stream",
     "text": [
      "False\n",
      "True\n"
     ]
    }
   ],
   "source": [
    "print(bool([])) #공백이기 때문에 False 출력\n",
    "print(bool([1, 2, 3]))"
   ]
  },
  {
   "cell_type": "markdown",
   "id": "cba91378-4675-43e8-bd24-ed493abc6d6d",
   "metadata": {},
   "source": [
    "## 4. 시퀀스(sequence) 자료형\n",
    "\n",
    "시퀀스는 데이터의 순서대로 나열된 자료구조. 단, 순서대로 나열되어있다는 것은 정렬된 것과는 다르다.\n",
    "\n",
    "1. 리스트(list)\n",
    "2. 튜플(tuple)\n",
    "3. 레인지(range)\n",
    "4. 문자열(string)"
   ]
  },
  {
   "cell_type": "markdown",
   "id": "12053ae6-92b4-43a1-b83c-8cecebe4267b",
   "metadata": {},
   "source": [
    "### 4.1 List(배열)\n",
    "- 선언 : 변수이름 = [value1, value2, value3]\n",
    "- 접근 : 변수이름[index]"
   ]
  },
  {
   "cell_type": "code",
   "execution_count": 164,
   "id": "69897ea9-71f8-41f0-8060-3d12e001f9c5",
   "metadata": {},
   "outputs": [
    {
     "name": "stdout",
     "output_type": "stream",
     "text": [
      "[]\n",
      "<class 'list'>\n"
     ]
    }
   ],
   "source": [
    "l = []\n",
    "print(l)\n",
    "print(type(l))"
   ]
  },
  {
   "cell_type": "code",
   "execution_count": 167,
   "id": "200b9ee2-11e5-40bb-9dd7-2f153e765a53",
   "metadata": {},
   "outputs": [
    {
     "name": "stdout",
     "output_type": "stream",
     "text": [
      "['서울', '대전', '부산']\n",
      "<class 'list'>\n",
      "서울\n",
      "부산\n",
      "['서울', '대전', '제주']\n"
     ]
    }
   ],
   "source": [
    "location = ['서울', '대전', '부산']\n",
    "print(location)\n",
    "print(type(location))\n",
    "\n",
    "print(location[0]) # 왼쪽에서부터 셈\n",
    "print(location[-1]) # 오른쪽에서부터 셈\n",
    "\n",
    "location[2] = '제주'\n",
    "print(location)"
   ]
  },
  {
   "cell_type": "markdown",
   "id": "813752e8-fdf1-41a2-a4b2-1f83fffc4c68",
   "metadata": {},
   "source": [
    "### Tuple\n",
    "- 선언 : 변수이름 = (value1, value2, value3)\n",
    "- 접근 : 변수이름[index]\n",
    "- lsit와 유사하지만 수정불가능(immutable)하다."
   ]
  },
  {
   "cell_type": "code",
   "execution_count": 168,
   "id": "ae9f60e6-079b-4c92-a9fe-1efb0c15af77",
   "metadata": {},
   "outputs": [
    {
     "name": "stdout",
     "output_type": "stream",
     "text": [
      "(1, 2, 3)\n",
      "<class 'tuple'>\n",
      "3\n"
     ]
    }
   ],
   "source": [
    "t = (1, 2, 3)\n",
    "print(t)\n",
    "print((type(t)))\n",
    "print(t[2])"
   ]
  },
  {
   "cell_type": "code",
   "execution_count": 170,
   "id": "d90fac94-c43b-436d-977a-d648bea97201",
   "metadata": {},
   "outputs": [
    {
     "ename": "TypeError",
     "evalue": "'tuple' object does not support item assignment",
     "output_type": "error",
     "traceback": [
      "\u001b[1;31m---------------------------------------------------------------------------\u001b[0m",
      "\u001b[1;31mTypeError\u001b[0m                                 Traceback (most recent call last)",
      "Cell \u001b[1;32mIn[170], line 1\u001b[0m\n\u001b[1;32m----> 1\u001b[0m \u001b[43mt\u001b[49m\u001b[43m[\u001b[49m\u001b[38;5;241;43m2\u001b[39;49m\u001b[43m]\u001b[49m \u001b[38;5;241m=\u001b[39m \u001b[38;5;241m100\u001b[39m \u001b[38;5;66;03m# tuple은 데이터 수정 불가능\u001b[39;00m\n",
      "\u001b[1;31mTypeError\u001b[0m: 'tuple' object does not support item assignment"
     ]
    }
   ],
   "source": [
    "t[2] = 100 # tuple은 데이터 수정 불가능"
   ]
  },
  {
   "cell_type": "code",
   "execution_count": 174,
   "id": "c39e357c-cd85-46d0-93b4-f0ca759e6920",
   "metadata": {},
   "outputs": [
    {
     "name": "stdout",
     "output_type": "stream",
     "text": [
      "(2, 1)\n",
      "<class 'tuple'>\n",
      "2\n"
     ]
    }
   ],
   "source": [
    "result = divmod(9 ,4)\n",
    "print(result)\n",
    "print(type(result))\n",
    "print(result[0])"
   ]
  },
  {
   "cell_type": "code",
   "execution_count": 180,
   "id": "b8e4c0c4-7644-41c3-a661-5afec22e4600",
   "metadata": {},
   "outputs": [
    {
     "name": "stdout",
     "output_type": "stream",
     "text": [
      "1 2\n",
      "2 1\n"
     ]
    }
   ],
   "source": [
    "x, y = (1, 2)\n",
    "print(x, y)\n",
    "\n",
    "x, y = y, x\n",
    "print(x, y) # 변수의 데이터를 스왑"
   ]
  },
  {
   "cell_type": "markdown",
   "id": "8d99ddec-ad3d-4fa1-a31d-ecd9ac28093c",
   "metadata": {},
   "source": [
    "### 4.3 range\n",
    "- range(n) : 0부터 n-1까지 범위\n",
    "- range(n, m) : n부터 m-1까지 범위\n",
    "- range(n, m, s) : n부터 m-1까지 범위, +s만큼 증가하는 범위"
   ]
  },
  {
   "cell_type": "code",
   "execution_count": 181,
   "id": "6ec30c62-4173-4b55-8bb6-97c65b7b3b41",
   "metadata": {},
   "outputs": [
    {
     "name": "stdout",
     "output_type": "stream",
     "text": [
      "range(0, 5)\n",
      "<class 'range'>\n"
     ]
    }
   ],
   "source": [
    "r = range(5)\n",
    "print(r)\n",
    "print(type(r))"
   ]
  },
  {
   "cell_type": "code",
   "execution_count": 182,
   "id": "1814327a-e948-4a1d-b4c4-dd472aad0d6a",
   "metadata": {},
   "outputs": [
    {
     "name": "stdout",
     "output_type": "stream",
     "text": [
      "range(5, 15)\n"
     ]
    }
   ],
   "source": [
    "r = range(5, 15)\n",
    "print(r)"
   ]
  },
  {
   "cell_type": "code",
   "execution_count": 185,
   "id": "fa523d36-1a5b-4ec9-81e8-2aabdabd682d",
   "metadata": {},
   "outputs": [
    {
     "name": "stdout",
     "output_type": "stream",
     "text": [
      "range(5, 15, 2)\n"
     ]
    }
   ],
   "source": [
    "r = range(5, 15, 2)\n",
    "print(r)"
   ]
  },
  {
   "cell_type": "code",
   "execution_count": 188,
   "id": "360a34fd-4c86-4fd0-a954-ef7be0f6808e",
   "metadata": {},
   "outputs": [
    {
     "data": {
      "text/plain": [
       "[5, 7, 9, 11, 13]"
      ]
     },
     "execution_count": 188,
     "metadata": {},
     "output_type": "execute_result"
    }
   ],
   "source": [
    "list(r)"
   ]
  },
  {
   "cell_type": "markdown",
   "id": "340e2e80-636c-4e8f-aa40-534f5220a3da",
   "metadata": {
    "jp-MarkdownHeadingCollapsed": true
   },
   "source": [
    "### 4.4 string\n",
    "기본 데이터 구조 참고"
   ]
  },
  {
   "cell_type": "markdown",
   "id": "b27c125b-71c4-4c3d-ab54-2743e65ade67",
   "metadata": {},
   "source": [
    "### 4.5 시퀀스에서 사용 가능한 연산/함수"
   ]
  },
  {
   "cell_type": "code",
   "execution_count": 190,
   "id": "8fcfb6f6-59f8-4294-9568-1b0651c71cba",
   "metadata": {},
   "outputs": [],
   "source": [
    "my_list = [1, 2, 3, 4, 5]\n",
    "my_tuple = (11, 22, 33, 44, 55)\n",
    "my_range= range(1, 10, 2)\n",
    "my_string = '일이삼사오'"
   ]
  },
  {
   "cell_type": "code",
   "execution_count": 191,
   "id": "b9ce5e37-1c71-427d-b40b-b946137a5c33",
   "metadata": {},
   "outputs": [
    {
     "name": "stdout",
     "output_type": "stream",
     "text": [
      "2\n",
      "22\n",
      "3\n",
      "이\n"
     ]
    }
   ],
   "source": [
    "# indexing\n",
    "print(my_list[1])\n",
    "print(my_tuple[1])\n",
    "print(my_range[1])\n",
    "print(my_string[1])"
   ]
  },
  {
   "cell_type": "code",
   "execution_count": 194,
   "id": "c5782fbf-7270-4ce1-9727-18d4c2d397fb",
   "metadata": {},
   "outputs": [
    {
     "name": "stdout",
     "output_type": "stream",
     "text": [
      "[2, 3]\n",
      "(22, 33)\n",
      "range(3, 7, 2)\n",
      "이삼\n"
     ]
    }
   ],
   "source": [
    "# slicing\n",
    "print(my_list[1:3]) # 1번째 데이터 ~ (3-1)번째 데이터까지\n",
    "print(my_tuple[1:3])\n",
    "print(my_range[1:3])\n",
    "print(my_string[1:3])"
   ]
  },
  {
   "cell_type": "code",
   "execution_count": 197,
   "id": "b65cb5db-b738-4c7e-9c20-9a5b3d9ed93a",
   "metadata": {},
   "outputs": [
    {
     "name": "stdout",
     "output_type": "stream",
     "text": [
      "[2, 4]\n",
      "range(5, 11, 4)\n"
     ]
    }
   ],
   "source": [
    "print(my_list[1:4:2]) # 1~3번째 데이터까지 중 2칸 간격으로 출력\n",
    "print(my_range[2:7:2])"
   ]
  },
  {
   "cell_type": "code",
   "execution_count": 199,
   "id": "bf8d5e8a-8a2b-4090-9531-9baa1e8614cb",
   "metadata": {},
   "outputs": [
    {
     "name": "stdout",
     "output_type": "stream",
     "text": [
      "[1, 2, 3]\n",
      "[4, 5]\n"
     ]
    }
   ],
   "source": [
    "print(my_list[ :3]) # 앞의 공백은 처음부터를 의미\n",
    "print(my_list[3: ]) # 뒤의 공백은 끝까지를 의미"
   ]
  },
  {
   "cell_type": "code",
   "execution_count": 203,
   "id": "2e7818c4-fd8b-4a6a-b49b-d855ca5b29cd",
   "metadata": {},
   "outputs": [
    {
     "name": "stdout",
     "output_type": "stream",
     "text": [
      "True\n",
      "False\n",
      "True\n",
      "True\n"
     ]
    }
   ],
   "source": [
    "# in\n",
    "print(1 in my_list) # in 데이터가 시퀀스 안에 존재하는지 물음\n",
    "print(1 in my_tuple)\n",
    "print(1 in my_range)\n",
    "print('일' in my_string)"
   ]
  },
  {
   "cell_type": "code",
   "execution_count": 205,
   "id": "4d33eb37-b911-4c28-9c9e-d9c7f5cc35e8",
   "metadata": {},
   "outputs": [
    {
     "name": "stdout",
     "output_type": "stream",
     "text": [
      "False\n",
      "True\n",
      "False\n",
      "False\n"
     ]
    }
   ],
   "source": [
    "# not in\n",
    "print(1 not in my_list) # in 데이터가 시퀀스 안에 존재하지 않는지 물음\n",
    "print(1 not in my_tuple)\n",
    "print(1 not in my_range)\n",
    "print('일' not in my_string)"
   ]
  },
  {
   "cell_type": "code",
   "execution_count": 206,
   "id": "7d59b8f9-b075-4052-93a4-706c7f59aee0",
   "metadata": {},
   "outputs": [
    {
     "name": "stdout",
     "output_type": "stream",
     "text": [
      "[1, 2, 3, 4, 5, 1, 2, 3, 4, 5]\n",
      "(11, 22, 33, 44, 55, 1, 2, 3)\n"
     ]
    }
   ],
   "source": [
    "# concatenation\n",
    "print(my_list + [1, 2, 3, 4, 5])\n",
    "print(my_tuple + (1, 2, 3))"
   ]
  },
  {
   "cell_type": "code",
   "execution_count": 209,
   "id": "4be0f2f1-4873-41c1-9717-ca86e1d19f2a",
   "metadata": {},
   "outputs": [
    {
     "name": "stdout",
     "output_type": "stream",
     "text": [
      "일이삼사오일이삼사오일이삼사오\n",
      "[1, 2, 3, 4, 5, 1, 2, 3, 4, 5, 1, 2, 3, 4, 5]\n",
      "[[0, 0, 0], [0, 0, 0], [0, 0, 0]]\n"
     ]
    }
   ],
   "source": [
    "# *\n",
    "print(my_string * 3)\n",
    "print(my_list * 3)\n",
    "\n",
    "print([[0] * 3] * 3)"
   ]
  },
  {
   "cell_type": "code",
   "execution_count": 210,
   "id": "ac935579-5c7c-4c5c-aa4e-3a524622d7ea",
   "metadata": {},
   "outputs": [
    {
     "data": {
      "text/plain": [
       "5"
      ]
     },
     "execution_count": 210,
     "metadata": {},
     "output_type": "execute_result"
    }
   ],
   "source": [
    "len(my_list)"
   ]
  },
  {
   "cell_type": "code",
   "execution_count": 211,
   "id": "a78d8777-389a-4226-bd9e-21afa9fad172",
   "metadata": {},
   "outputs": [
    {
     "data": {
      "text/plain": [
       "11"
      ]
     },
     "execution_count": 211,
     "metadata": {},
     "output_type": "execute_result"
    }
   ],
   "source": [
    "min(my_tuple)"
   ]
  },
  {
   "cell_type": "code",
   "execution_count": 212,
   "id": "422708a1-3919-47bf-b86d-3d29a62dc5f5",
   "metadata": {},
   "outputs": [
    {
     "data": {
      "text/plain": [
       "9"
      ]
     },
     "execution_count": 212,
     "metadata": {},
     "output_type": "execute_result"
    }
   ],
   "source": [
    "max(my_range)"
   ]
  },
  {
   "cell_type": "code",
   "execution_count": 214,
   "id": "a652fd7a-6d93-454d-abff-954849293071",
   "metadata": {},
   "outputs": [
    {
     "data": {
      "text/plain": [
       "1"
      ]
     },
     "execution_count": 214,
     "metadata": {},
     "output_type": "execute_result"
    }
   ],
   "source": [
    "my_list.count(1)"
   ]
  },
  {
   "cell_type": "markdown",
   "id": "a940f7c8-6c47-48d0-8fb7-5c72ab7c7c34",
   "metadata": {},
   "source": [
    "## 5. 시퀀스데이터가 아닌 자료구조\n",
    "### 5.1 set\n",
    "수학에서 사용하는 집합과 동일하게 처리(중복된 값이 없음)\n",
    "- 선언 : 변수이름 = {value1, value2, value3}"
   ]
  },
  {
   "cell_type": "code",
   "execution_count": 215,
   "id": "3e601f83-6a4a-4c37-bdab-782c3bf4589b",
   "metadata": {},
   "outputs": [],
   "source": [
    "my_set_a = {1, 2, 3, 4, 5}\n",
    "my_set_b = {1, 3, 5, 7, 9}"
   ]
  },
  {
   "cell_type": "code",
   "execution_count": 218,
   "id": "77d0ccc0-f75e-4eb0-9f2b-29203b123029",
   "metadata": {},
   "outputs": [
    {
     "name": "stdout",
     "output_type": "stream",
     "text": [
      "{2, 4}\n",
      "{1, 2, 3, 4, 5, 7, 9}\n",
      "{1, 3, 5}\n"
     ]
    }
   ],
   "source": [
    "print(my_set_a - my_set_b) # 차집합. 앞의 집합에서 뒤의 집합과의 교집합을 뺌.\n",
    "print(my_set_a | my_set_b) # 합집합\n",
    "print(my_set_a & my_set_b) # 교집합"
   ]
  },
  {
   "cell_type": "code",
   "execution_count": 219,
   "id": "0e310a71-23fe-4f7a-b05e-7255341031ee",
   "metadata": {},
   "outputs": [
    {
     "name": "stdout",
     "output_type": "stream",
     "text": [
      "{1, 2, 3, 4, 5, 6, 7, 8}\n"
     ]
    }
   ],
   "source": [
    "my_list = [1, 2, 3, 1, 4, 1, 2, 3, 5, 6, 7, 8, 2, 2]\n",
    "print(set(my_list))"
   ]
  },
  {
   "cell_type": "markdown",
   "id": "858bead1-31a0-4ff7-b2cf-737233d0834c",
   "metadata": {},
   "source": [
    "### 5.2 dictionary\n",
    "- 선언 : 변수이름 = {key1 : value1, key2 : value2, key3 : value3}\n",
    "- 접근 : 변수이름[key]\n",
    "- dictionary는 key와 value가 쌍으로 이뤄져있다.\n",
    "- key에는 immutable한 모든 값을 사용가능. (불변값 : string, intger ...)\n",
    "- value에는 모든 데이터 가능. (list, dict ...)"
   ]
  },
  {
   "cell_type": "code",
   "execution_count": 221,
   "id": "73800081-3095-4427-8a17-cf0753e0af3a",
   "metadata": {},
   "outputs": [
    {
     "data": {
      "text/plain": [
       "'02'"
      ]
     },
     "execution_count": 221,
     "metadata": {},
     "output_type": "execute_result"
    }
   ],
   "source": [
    "my_dict = {'서울': '02', '경기': '031'}\n",
    "my_dict['서울']"
   ]
  },
  {
   "cell_type": "code",
   "execution_count": 225,
   "id": "240d1fac-7524-41fe-8127-f946ff7db701",
   "metadata": {},
   "outputs": [
    {
     "name": "stdout",
     "output_type": "stream",
     "text": [
      "28\n",
      "[1, 2, 3, 4, 5]\n",
      "4\n",
      "29\n"
     ]
    }
   ],
   "source": [
    "dict_a = {\n",
    "    'name': 'jiho', \n",
    "    'age': 28,\n",
    "    'location' : 'seoul',\n",
    "    'numbers' : [1, 2, 3, 4, 5],\n",
    "    'friends': {\n",
    "        'a': 27,\n",
    "        'b': 29,\n",
    "    },\n",
    "}\n",
    "\n",
    "print(dict_a['age'])\n",
    "print(dict_a['numbers'])\n",
    "print(dict_a['numbers'][3])\n",
    "\n",
    "print(dict_a['friends']['b'])"
   ]
  },
  {
   "cell_type": "code",
   "execution_count": 228,
   "id": "d5d4f013-7e7c-4c8d-b91b-ff1768a3287e",
   "metadata": {},
   "outputs": [
    {
     "name": "stdout",
     "output_type": "stream",
     "text": [
      "dict_keys(['name', 'age', 'location', 'numbers', 'friends'])\n",
      "dict_values(['jiho', 28, 'seoul', [1, 2, 3, 4, 5], {'a': 27, 'b': 29}])\n"
     ]
    }
   ],
   "source": [
    "print(dict_a.keys()) #dict 안의 key 목록을 확인\n",
    "print(dict_a.values()) # dict 안의 values 목록을 확인"
   ]
  },
  {
   "cell_type": "markdown",
   "id": "a85d5de8-6e85-4755-9522-a72c29a5c1c0",
   "metadata": {},
   "source": [
    "## 데이터 타입\n",
    "\n",
    "1. Number\n",
    "2. Boolean\n",
    "3. String\n",
    "\n",
    "## 자료구조\n",
    "\n",
    "- 시퀀스 자료형\n",
    "  1. [list] : mutable\n",
    "  2. (Tuple) : immutable\n",
    "  3. range() :immutable\n",
    "  4. 'String' : immutable\n",
    "\n",
    "- 시퀀스가 아닌 자료형\n",
    "  1. {Set} : mutable\n",
    "  2. {Dic:tionary} : mutable"
   ]
  },
  {
   "cell_type": "code",
   "execution_count": null,
   "id": "8ead4377-b308-4072-bcae-fb3d1f7a5abc",
   "metadata": {},
   "outputs": [],
   "source": []
  }
 ],
 "metadata": {
  "kernelspec": {
   "display_name": "Python 3 (ipykernel)",
   "language": "python",
   "name": "python3"
  },
  "language_info": {
   "codemirror_mode": {
    "name": "ipython",
    "version": 3
   },
   "file_extension": ".py",
   "mimetype": "text/x-python",
   "name": "python",
   "nbconvert_exporter": "python",
   "pygments_lexer": "ipython3",
   "version": "3.11.5"
  }
 },
 "nbformat": 4,
 "nbformat_minor": 5
}
