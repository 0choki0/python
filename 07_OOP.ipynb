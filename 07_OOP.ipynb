{
 "cells": [
  {
   "cell_type": "markdown",
   "id": "1b3cefc0-c932-4ace-a648-9b4cda2266ec",
   "metadata": {},
   "source": [
    "# 객체 지향 프로그래밍(OOP)\n",
    "- 클래스(class) : 같은 종류의 집단에 속하는 속성과 행위를 **정의**한 것\n",
    "- 인스턴스(instance) : 클래스를 실제로 메모리상에 할당한 것\n",
    "- 속성 (attribute): 클래스/인스턴스가 가지고 있는 **데이터**/값\n",
    "- 행위(method) : 클래스/인스턴스가 가지고 있는 **함수**/기능"
   ]
  },
  {
   "cell_type": "code",
   "execution_count": 5,
   "id": "c9223d37-d30b-4780-b668-8392ff165101",
   "metadata": {},
   "outputs": [],
   "source": [
    "number = 1 + 2j"
   ]
  },
  {
   "cell_type": "code",
   "execution_count": 6,
   "id": "f1258a9e-f5aa-49b0-a6cc-1a2cdde0be0a",
   "metadata": {},
   "outputs": [
    {
     "data": {
      "text/plain": [
       "complex"
      ]
     },
     "execution_count": 6,
     "metadata": {},
     "output_type": "execute_result"
    }
   ],
   "source": [
    "type(number)"
   ]
  },
  {
   "cell_type": "code",
   "execution_count": 8,
   "id": "528fdecf-5c59-4aed-94cd-c95906281854",
   "metadata": {},
   "outputs": [
    {
     "name": "stdout",
     "output_type": "stream",
     "text": [
      "1.0\n",
      "2.0\n"
     ]
    }
   ],
   "source": [
    "#속성에 접근하기 위해서는 ~~. 을이용\n",
    "print(number.real)\n",
    "print(number.imag)"
   ]
  },
  {
   "cell_type": "code",
   "execution_count": 10,
   "id": "477b77c9-47da-4adf-aa75-511abfed6af6",
   "metadata": {},
   "outputs": [
    {
     "name": "stdout",
     "output_type": "stream",
     "text": [
      "<class 'list'>\n",
      "[4, 3, 2, 1]\n"
     ]
    }
   ],
   "source": [
    "my_list = [1, 2, 3, 4]\n",
    "print(type(my_list))\n",
    "my_list.reverse()\n",
    "print(my_list)"
   ]
  },
  {
   "cell_type": "code",
   "execution_count": 13,
   "id": "0a2e0202-a978-482e-9c31-4fe06c8589f1",
   "metadata": {},
   "outputs": [
    {
     "name": "stdout",
     "output_type": "stream",
     "text": [
      "핸드폰이 켜졌습니다.\n"
     ]
    }
   ],
   "source": [
    "power = False\n",
    "number = '010-1234-1234'\n",
    "book = {\n",
    "    '홍길동': '010-5678-5687',\n",
    "    '이순신': '010-9012-9012',\n",
    "}\n",
    "\n",
    "def on():\n",
    "    global power\n",
    "    if power == False:\n",
    "        power = True\n",
    "        print('핸드폰이 켜졌습니다.')\n",
    "on()\n",
    "\n",
    "# 이 코드가 여러 핸드폰에 작용해야하는 문제가 있음. -> 객체지향프로그래밍 필요"
   ]
  },
  {
   "cell_type": "markdown",
   "id": "d85ad33a-0f35-4372-a078-4cdd669d118c",
   "metadata": {},
   "source": [
    "## Class\n",
    "\n",
    "- 클래스 선언\n",
    "```python\n",
    "class ClassName:\n",
    "    attribute = value\n",
    "\n",
    "    def method_name(self):\n",
    "        code\n",
    "```\n",
    "\n",
    "- 인스턴스화\n",
    "```python\n",
    "ClassName()\n",
    "```"
   ]
  },
  {
   "cell_type": "code",
   "execution_count": 14,
   "id": "6c6d6420-2339-4e01-b967-fffc621ce5cd",
   "metadata": {},
   "outputs": [],
   "source": [
    "# 선언\n",
    "class MyClass:\n",
    "    name = 'kim'\n",
    "\n",
    "    def hello(self):\n",
    "        return 'hello'\n"
   ]
  },
  {
   "cell_type": "code",
   "execution_count": 23,
   "id": "0bf83736-441e-4e0d-b26e-3d656cd47525",
   "metadata": {},
   "outputs": [
    {
     "name": "stdout",
     "output_type": "stream",
     "text": [
      "<class '__main__.MyClass'>\n",
      "kim\n",
      "hello\n",
      "lee\n",
      "hello\n"
     ]
    }
   ],
   "source": [
    "# 인스턴스화\n",
    "a = MyClass()\n",
    "print(type(a))\n",
    "\n",
    "print(a.name)\n",
    "print(a.hello())\n",
    "\n",
    "b = MyClass()\n",
    "b.name = 'lee'\n",
    "print(b.name)\n",
    "print(b.hello())"
   ]
  },
  {
   "cell_type": "code",
   "execution_count": 36,
   "id": "45d7b256-ddf5-4678-98ab-fa7c1bc34baa",
   "metadata": {},
   "outputs": [],
   "source": [
    "class Phone:\n",
    "    power = False\n",
    "    number = '010-0000-0000'\n",
    "    book = {}\n",
    "    model = ''\n",
    "\n",
    "    def on (self): #self는 인스턴스 자기 자신을 의미\n",
    "        if self.power == False:\n",
    "            self.power = True\n",
    "\n",
    "    def off(self):\n",
    "        if self.power == True:\n",
    "            self.power = False\n",
    "\n",
    "    def call(self, target):\n",
    "        if self.power == True:\n",
    "            print(f'제 번호는 {self.number}입니다.')\n",
    "            print(f'{target}로 전화 거는중')\n",
    "        else:\n",
    "            print('핸드폰을 켜주세요')"
   ]
  },
  {
   "cell_type": "code",
   "execution_count": 37,
   "id": "7a7e56b7-4253-41cc-a738-47c9c0a08cb4",
   "metadata": {},
   "outputs": [],
   "source": [
    "my_phone = Phone()\n",
    "your_phone = Phone()"
   ]
  },
  {
   "cell_type": "code",
   "execution_count": 38,
   "id": "4c5c0d53-ef0e-4c4a-b19b-3c9d36a06209",
   "metadata": {},
   "outputs": [
    {
     "name": "stdout",
     "output_type": "stream",
     "text": [
      "False\n",
      "010-0000-0000\n"
     ]
    }
   ],
   "source": [
    "print(my_phone.power)\n",
    "print(my_phone.number)"
   ]
  },
  {
   "cell_type": "code",
   "execution_count": 39,
   "id": "55d7173b-51e7-451f-9eef-51a8f4e611ab",
   "metadata": {},
   "outputs": [
    {
     "name": "stdout",
     "output_type": "stream",
     "text": [
      "010-1234-1234\n",
      "010-0000-0000\n"
     ]
    }
   ],
   "source": [
    "my_phone.number = '010-1234-1234'\n",
    "print(my_phone.number)\n",
    "print(your_phone.number)"
   ]
  },
  {
   "cell_type": "code",
   "execution_count": 40,
   "id": "4dcf22ad-0acb-4f50-9172-54b124f48b78",
   "metadata": {},
   "outputs": [
    {
     "name": "stdout",
     "output_type": "stream",
     "text": [
      "True\n",
      "False\n",
      "False\n"
     ]
    }
   ],
   "source": [
    "my_phone.on()\n",
    "print(my_phone.power)\n",
    "print(your_phone.power)\n",
    "\n",
    "my_phone.off()\n",
    "print(my_phone.power)"
   ]
  },
  {
   "cell_type": "code",
   "execution_count": 42,
   "id": "b9759fa3-5a99-4400-812a-3cb101ca254d",
   "metadata": {},
   "outputs": [
    {
     "name": "stdout",
     "output_type": "stream",
     "text": [
      "제 번호는 010-1234-1234입니다.\n",
      "112로 전화 거는중\n"
     ]
    }
   ],
   "source": [
    "my_phone.on()\n",
    "my_phone.call('112')"
   ]
  },
  {
   "cell_type": "code",
   "execution_count": 43,
   "id": "275273db-94a9-4583-9a1a-e779fe428c54",
   "metadata": {},
   "outputs": [
    {
     "name": "stdout",
     "output_type": "stream",
     "text": [
      "핸드폰을 켜주세요\n"
     ]
    }
   ],
   "source": [
    "your_phone.call('119')"
   ]
  },
  {
   "cell_type": "code",
   "execution_count": 80,
   "id": "a3313179-5473-4870-9023-199df835892e",
   "metadata": {},
   "outputs": [],
   "source": [
    "# 연습\n",
    "\n",
    "class MyList:\n",
    "\n",
    "    data = []\n",
    "    def append(self, num):\n",
    "        #self.data.append(num)\n",
    "        self.data += [num]\n",
    "        \n",
    "\n",
    "    def pop(self):\n",
    "        self.data = self.data[:-1]"
   ]
  },
  {
   "cell_type": "code",
   "execution_count": 81,
   "id": "33ed5768-1be1-4126-b6bc-5c9d97398e46",
   "metadata": {},
   "outputs": [
    {
     "name": "stdout",
     "output_type": "stream",
     "text": [
      "[]\n",
      "[5]\n",
      "[5, 10]\n",
      "[5]\n"
     ]
    }
   ],
   "source": [
    "list_a = MyList()\n",
    "print(list_a.data) # => []\n",
    "\n",
    "list_a.append(5) # => [5]\n",
    "print(list_a.data)\n",
    "\n",
    "list_a.append(10) # => [5, 10]\n",
    "print(list_a.data)\n",
    "\n",
    "list_a.pop() # => [5]\n",
    "print(list_a.data)"
   ]
  },
  {
   "cell_type": "markdown",
   "id": "b1fea3f5-e0b0-44c5-87a3-834e1a091ea1",
   "metadata": {},
   "source": [
    "## 생성자, 소멸자\n",
    "\n",
    "```python\n",
    "class MyClass:\n",
    "\n",
    "    def __init__(self):\n",
    "        pass \n",
    "\n",
    "    def __del__(self):\n",
    "        pass\n",
    "```"
   ]
  },
  {
   "cell_type": "code",
   "execution_count": 17,
   "id": "6ed4f154-183e-48c7-afbc-f34beda6a858",
   "metadata": {},
   "outputs": [],
   "source": [
    "class Person:\n",
    "    name = 'no_name'\n",
    "\n",
    "    def __init__(self, name='익명'): # 인스턴스화 하는 과정에서 init을 자동으로 실행함\n",
    "        self.name = name\n",
    "        print('생성됨')\n",
    "\n",
    "    def __del__(self):\n",
    "        print('소멸됨')"
   ]
  },
  {
   "cell_type": "code",
   "execution_count": 21,
   "id": "04993214-070e-4c13-8278-a0970e5ad176",
   "metadata": {},
   "outputs": [
    {
     "name": "stdout",
     "output_type": "stream",
     "text": [
      "생성됨\n",
      "<__main__.Person object at 0x000002250AC2BD50>\n",
      "lee\n",
      "생성됨\n",
      "소멸됨\n",
      "park\n",
      "생성됨\n",
      "소멸됨\n",
      "익명\n",
      "no_name\n",
      "010-1234-1234\n"
     ]
    }
   ],
   "source": [
    "p1 = Person('lee') # => Person 클래스에 들어가서 __init__()을 동작한 것과 같음\n",
    "print(p1)\n",
    "print(p1.name)\n",
    "\n",
    "p2 = Person('park')\n",
    "print(p2.name)\n",
    "\n",
    "p3 = Person()\n",
    "print(p3.name)\n",
    "\n",
    "print(Person.name)\n",
    "\n",
    "p1.phone = '010-1234-1234' #새로운 변수 입력은 p1의 데이터 하나에서만 이루어지기 때문에 가능하다.\n",
    "print(p1.phone)"
   ]
  },
  {
   "cell_type": "code",
   "execution_count": 22,
   "id": "19c36424-c42f-49a1-8985-2a155bcdd9bf",
   "metadata": {},
   "outputs": [
    {
     "name": "stdout",
     "output_type": "stream",
     "text": [
      "소멸됨\n"
     ]
    }
   ],
   "source": [
    "del p1 # p1에 담긴 클래스(데이터)를 삭제"
   ]
  },
  {
   "cell_type": "code",
   "execution_count": 23,
   "id": "334019d8-c3e2-4185-b675-8be876ab5da8",
   "metadata": {},
   "outputs": [
    {
     "ename": "NameError",
     "evalue": "name 'p1' is not defined",
     "output_type": "error",
     "traceback": [
      "\u001b[1;31m---------------------------------------------------------------------------\u001b[0m",
      "\u001b[1;31mNameError\u001b[0m                                 Traceback (most recent call last)",
      "Cell \u001b[1;32mIn[23], line 1\u001b[0m\n\u001b[1;32m----> 1\u001b[0m \u001b[38;5;28mprint\u001b[39m(\u001b[43mp1\u001b[49m)\n",
      "\u001b[1;31mNameError\u001b[0m: name 'p1' is not defined"
     ]
    }
   ],
   "source": [
    "print(p1)"
   ]
  },
  {
   "cell_type": "code",
   "execution_count": 43,
   "id": "e8a80d3e-0558-4ddf-bc00-9f5d75f09197",
   "metadata": {},
   "outputs": [],
   "source": [
    "# Circle\n",
    "\n",
    "class Circle:\n",
    "    pi = 3.14\n",
    "\n",
    "    def __init__(self, r, x, y):\n",
    "        self.r = r\n",
    "        self.x = x\n",
    "        self.y = y\n",
    "\n",
    "    def area(self):\n",
    "        return self.pi * self.r ** 2\n",
    "\n",
    "    def move(self, x, y):\n",
    "        self.x = x\n",
    "        self.y = y\n",
    "        print(f'원의 중심이 ({self.x}, {self.y})로 이동했습니다.')\n",
    "\n",
    "    def center(self):\n",
    "        return (self.x, self.y)\n",
    "    \n",
    "    def round(self):\n",
    "        return self.r * self.pi * 2"
   ]
  },
  {
   "cell_type": "code",
   "execution_count": 44,
   "id": "2a53c871-1415-4923-b988-fad52c43bed3",
   "metadata": {},
   "outputs": [
    {
     "name": "stdout",
     "output_type": "stream",
     "text": [
      "3\n",
      "10\n",
      "28.26\n",
      "314.0\n",
      "원의 중심이 (0, 0)로 이동했습니다.\n",
      "(0, 0)\n"
     ]
    }
   ],
   "source": [
    "c1 = Circle(3, 5, 5)\n",
    "print(c1.r)\n",
    "\n",
    "c2 = Circle(10, 0, 0)\n",
    "print(c2.r)\n",
    "\n",
    "print(c1.area())\n",
    "print(c2.area())\n",
    "\n",
    "c1.move(0, 0)\n",
    "print(c1.center())"
   ]
  },
  {
   "cell_type": "code",
   "execution_count": 45,
   "id": "84cf0cbe-6127-4943-a448-a06e0211de6f",
   "metadata": {},
   "outputs": [
    {
     "name": "stdout",
     "output_type": "stream",
     "text": [
      "18.84\n"
     ]
    }
   ],
   "source": [
    "print(c1.round())"
   ]
  },
  {
   "cell_type": "code",
   "execution_count": 62,
   "id": "97bb8d60-36ef-4ad6-8bb1-a3da408e48b0",
   "metadata": {},
   "outputs": [],
   "source": [
    "#Point\n",
    "\n",
    "class Point:\n",
    "    def __init__(self, x, y):\n",
    "        self.x = x\n",
    "        self.y = y\n",
    "\n",
    "    def info(self):\n",
    "        return (self.x, self.y)\n",
    "\n",
    "# Circle\n",
    "class Circle:\n",
    "    def __init__ (self, point, r):\n",
    "        self.point = point\n",
    "        self.r = r\n",
    "    \n",
    "    def info(self):\n",
    "        return (self.point.x, self.point.y, self.r)\n",
    "\n",
    "    def move(self, x, y):\n",
    "        self.point.x = x\n",
    "        self.point.y = y"
   ]
  },
  {
   "cell_type": "code",
   "execution_count": 65,
   "id": "9db13617-4ff8-4cbc-b487-8b5390b218a7",
   "metadata": {},
   "outputs": [
    {
     "name": "stdout",
     "output_type": "stream",
     "text": [
      "(3, 3)\n",
      "(3, 3)\n",
      "(3, 3, 10)\n",
      "(5, 5, 10)\n"
     ]
    }
   ],
   "source": [
    "p1 = Point(3, 3)\n",
    "print(p1.info())\n",
    "\n",
    "c1 = Circle(p1, 10)\n",
    "print(c1.point.info())\n",
    "print(c1.info())\n",
    "c1.move(5, 5)\n",
    "print(c1.info())"
   ]
  },
  {
   "cell_type": "markdown",
   "id": "9232a6d9-c942-488e-98df-c7c57f57b845",
   "metadata": {},
   "source": [
    "### 클래스변수\n",
    "- 클래스 선언 블록 최상단에 위치\n",
    "\n",
    "### 인스턴스변수\n",
    "- 인스턴스 내부에서 생성한 변수(self.variable = )\n",
    "\n",
    "```python\n",
    "class MyClass:\n",
    "    class_variable = '클래스변수'\n",
    "\n",
    "    def __init__(self, name):\n",
    "        self.instance_variable = '인스턴스변수'\n",
    "```"
   ]
  },
  {
   "cell_type": "code",
   "execution_count": 68,
   "id": "bb4732db-ee10-4e8b-9917-36efd73adaeb",
   "metadata": {},
   "outputs": [],
   "source": [
    "class Person:\n",
    "    name = '홍길동'\n",
    "    phone = '010-1234-1234'\n",
    "\n",
    "    def __init__(self, name):\n",
    "        self.name = name"
   ]
  },
  {
   "cell_type": "code",
   "execution_count": 71,
   "id": "2020d2d0-6382-45e6-8cc5-b0a850f9bcee",
   "metadata": {},
   "outputs": [
    {
     "name": "stdout",
     "output_type": "stream",
     "text": [
      "hong\n",
      "홍길동\n",
      "010-1234-1234\n"
     ]
    }
   ],
   "source": [
    "p1 = Person('hong')\n",
    "print(p1.name)\n",
    "print(Person.name)\n",
    "\n",
    "print(p1.phone)"
   ]
  },
  {
   "cell_type": "markdown",
   "id": "d0988f4a-cd4d-4bb2-bb0d-30a0811fe599",
   "metadata": {},
   "source": [
    "### 클래스메소드, 인스턴스메소드, 스태틱메소드\n",
    "\n",
    "```python\n",
    "class MyClass:\n",
    "    def instance_method(self): \n",
    "        pass\n",
    "    @classmethod\n",
    "    def class_method(cls):\n",
    "        pass\n",
    "    @staticmethod():\n",
    "        pass\n",
    "```"
   ]
  },
  {
   "cell_type": "code",
   "execution_count": 81,
   "id": "76cdfee9-a35f-43c9-a2b2-80642be59cc5",
   "metadata": {},
   "outputs": [],
   "source": [
    "class MyClass:\n",
    "    def instance_method(self): \n",
    "        return self\n",
    "    @classmethod\n",
    "    def class_method(cls): #클래스가 가진 데이터가 들어옴\n",
    "        return cls\n",
    "    @staticmethod\n",
    "    def static_method():\n",
    "        return 'hello'"
   ]
  },
  {
   "cell_type": "code",
   "execution_count": 82,
   "id": "d331153a-59fb-453e-8285-4b27eb421847",
   "metadata": {},
   "outputs": [
    {
     "name": "stdout",
     "output_type": "stream",
     "text": [
      "<__main__.MyClass object at 0x000002250B72C090>\n",
      "<class '__main__.MyClass'>\n",
      "<class '__main__.MyClass'>\n",
      "hello\n"
     ]
    }
   ],
   "source": [
    "c = MyClass()\n",
    "\n",
    "print(c.instance_method())\n",
    "print(c.class_method())\n",
    "print(MyClass.class_method())\n",
    "print(c.static_method())"
   ]
  },
  {
   "cell_type": "code",
   "execution_count": 100,
   "id": "1fdea72c-1f58-441e-bbf4-fc034cf08254",
   "metadata": {},
   "outputs": [],
   "source": [
    "class Puppy:\n",
    "    num_of_puppy = 0\n",
    "    \n",
    "    def __init__(self, name):\n",
    "        self.name = name\n",
    "        Puppy.num_of_puppy  += 1\n",
    "\n",
    "    @classmethod\n",
    "    def get_status(cls):\n",
    "        print(f'현재 강아지는 {cls.num_of_puppy}마리입니다.')\n",
    "\n",
    "    @staticmethod\n",
    "    def bark(msg):\n",
    "        return msg\n",
    "    def bark2(self, msg):\n",
    "        return f'{self.name}은 {msg}합니다.'"
   ]
  },
  {
   "cell_type": "code",
   "execution_count": 101,
   "id": "09a964c4-68f7-48cb-b1ad-04aef9874fcd",
   "metadata": {},
   "outputs": [
    {
     "name": "stdout",
     "output_type": "stream",
     "text": [
      "3\n",
      "현재 강아지는 3마리입니다.\n",
      "현재 강아지는 3마리입니다.\n",
      "멍멍\n",
      "그르릉\n",
      "흰둥이은 멍멍합니다.\n"
     ]
    }
   ],
   "source": [
    "p1 = Puppy('흰둥이')\n",
    "p2 = Puppy('시로')\n",
    "p3 = Puppy('화이트')\n",
    "\n",
    "print(Puppy.num_of_puppy)\n",
    "\n",
    "Puppy.get_status()\n",
    "p1.get_status()\n",
    "\n",
    "print(p1.bark('멍멍'))\n",
    "print(p2.bark('그르릉'))\n",
    "\n",
    "print(p1.bark2('멍멍'))"
   ]
  },
  {
   "cell_type": "markdown",
   "id": "ee1b9ccf-e8b1-4af7-ba2e-6553f81f7144",
   "metadata": {},
   "source": [
    "## 상속"
   ]
  },
  {
   "cell_type": "code",
   "execution_count": 102,
   "id": "ddd1037e-3cac-433b-8bde-b7e71901bdb0",
   "metadata": {},
   "outputs": [],
   "source": [
    "class Person:\n",
    "\n",
    "    def __init__(self, name):\n",
    "        self.name = name\n",
    "\n",
    "    def greeting(self):\n",
    "        print(f'안녕하세요. {self.name}입니다.')"
   ]
  },
  {
   "cell_type": "code",
   "execution_count": 103,
   "id": "7e38d425-bae0-4ae0-8161-885ed73a5542",
   "metadata": {},
   "outputs": [
    {
     "name": "stdout",
     "output_type": "stream",
     "text": [
      "안녕하세요. 홍길동입니다.\n"
     ]
    }
   ],
   "source": [
    "p1 = Person('홍길동')\n",
    "p2 = Person('이순신')\n",
    "\n",
    "p1.greeting()"
   ]
  },
  {
   "cell_type": "code",
   "execution_count": 104,
   "id": "bfbe8c34-541d-4858-9682-cb922d052964",
   "metadata": {},
   "outputs": [],
   "source": [
    "class Student:\n",
    "    \n",
    "    def __init__(self, name, student_id):\n",
    "        self.name = name\n",
    "        self.student_id = student_id\n",
    "\n",
    "    def greeting(self):\n",
    "        print(f'안녕하세요. {self.name}입니다.')"
   ]
  },
  {
   "cell_type": "code",
   "execution_count": 106,
   "id": "c6a6093d-22d0-421b-9ab9-ecf0d2065f9b",
   "metadata": {},
   "outputs": [
    {
     "name": "stdout",
     "output_type": "stream",
     "text": [
      "안녕하세요. hong입니다.\n"
     ]
    }
   ],
   "source": [
    "s1 = Student('hong', '123456')\n",
    "s1.greeting()"
   ]
  },
  {
   "cell_type": "code",
   "execution_count": 107,
   "id": "1644a334-9931-4f26-964d-5c7a8c05d3dd",
   "metadata": {},
   "outputs": [],
   "source": [
    "class Soldier:\n",
    "    \n",
    "    def __init__(self, name, soldier_id):\n",
    "        self.name = name\n",
    "        self.soldier_id = soldier_id\n",
    "\n",
    "    def greeting(self):\n",
    "        print(f'충성! {self.name}입니다.')"
   ]
  },
  {
   "cell_type": "code",
   "execution_count": 108,
   "id": "b10ee179-e869-4fe0-ae99-c18d5a3d8eb1",
   "metadata": {},
   "outputs": [
    {
     "name": "stdout",
     "output_type": "stream",
     "text": [
      "충성! 굳건이입니다.\n"
     ]
    }
   ],
   "source": [
    "s2 = Soldier('굳건이', '11-11111111')\n",
    "s2.greeting()"
   ]
  },
  {
   "cell_type": "code",
   "execution_count": 110,
   "id": "b8c7cb7a-5a47-4505-9007-ec0e6de1c5b0",
   "metadata": {},
   "outputs": [],
   "source": [
    "class Student(Person): #Person의 클래스가 Student에 상속됨\n",
    "\n",
    "    # def __init__(self, name):\n",
    "    #     self.name = name\n",
    "\n",
    "    # def greeting(self):\n",
    "    #     print(f'안녕하세요. {self.name}입니다.')\n",
    "\n",
    "    def __init__(self, name, student_id): #기존에 상속한 것 외의 새로운 코드\n",
    "        self.name = name\n",
    "        self.student_id = student_id"
   ]
  },
  {
   "cell_type": "code",
   "execution_count": 115,
   "id": "3985512e-8e0c-4556-817a-017af1a5f20c",
   "metadata": {},
   "outputs": [
    {
     "name": "stdout",
     "output_type": "stream",
     "text": [
      "hong\n",
      "1234567\n"
     ]
    }
   ],
   "source": [
    "s1 = Student('hong', '1234567')\n",
    "print(s1.name)\n",
    "print(s1.student_id)"
   ]
  },
  {
   "cell_type": "code",
   "execution_count": 116,
   "id": "6bc3389c-b8f3-40c4-9be1-15ca580779a1",
   "metadata": {},
   "outputs": [],
   "source": [
    "# 상속에서 피상속 클래스에 접근하는 법\n",
    "\n",
    "class Person:\n",
    "    def __init__(self, name, email, phone, location):\n",
    "        self.name = name\n",
    "        self.email = email\n",
    "        self.phone = phone\n",
    "        self.location = location\n",
    "\n",
    "class Student(Person):\n",
    "    def __init__(self, name, email, phone, location, student_id):\n",
    "        # super는 피상속 클래스를 의미한다.\n",
    "        super().__init__(name, email, phone, location)\n",
    "        self.student_id = stuendt_id"
   ]
  },
  {
   "cell_type": "markdown",
   "id": "c3195a2b-6259-456c-b7c1-e4ac35f6e6a1",
   "metadata": {},
   "source": [
    "### 다중상속"
   ]
  },
  {
   "cell_type": "code",
   "execution_count": 118,
   "id": "70afe6fe-f09e-4c87-9a92-51f1156ea8a7",
   "metadata": {},
   "outputs": [],
   "source": [
    "class Person:\n",
    "    def __init__(self, name):\n",
    "        self.name = name\n",
    "\n",
    "    def breath(self):\n",
    "        print('후하')"
   ]
  },
  {
   "cell_type": "code",
   "execution_count": 119,
   "id": "d5cb0d50-05ab-4d39-b638-f993088e9444",
   "metadata": {},
   "outputs": [],
   "source": [
    "class Mom(Person):\n",
    "    gene = 'xx'\n",
    "\n",
    "    def swim(self):\n",
    "        print('어푸어푸')        "
   ]
  },
  {
   "cell_type": "code",
   "execution_count": 120,
   "id": "cda4cd66-bf36-41e3-9e81-e9733a9ed3ca",
   "metadata": {},
   "outputs": [],
   "source": [
    "class Dad(Person):\n",
    "    gene = 'xy'\n",
    "\n",
    "    def run(self):\n",
    "        print('다다다')        "
   ]
  },
  {
   "cell_type": "code",
   "execution_count": 122,
   "id": "3eb4646d-6d81-4d45-827a-900f8fa2fc6e",
   "metadata": {},
   "outputs": [],
   "source": [
    "class Baby(Dad, Mom):\n",
    "    pass "
   ]
  },
  {
   "cell_type": "code",
   "execution_count": 124,
   "id": "dfd840fa-bb59-4e57-b936-ece9cdaebee0",
   "metadata": {},
   "outputs": [
    {
     "name": "stdout",
     "output_type": "stream",
     "text": [
      "금쪽이\n",
      "xy\n",
      "어푸어푸\n",
      "다다다\n"
     ]
    }
   ],
   "source": [
    "b = Baby('금쪽이') #피상속에 정보가 없으면 한번더 피상속으로 넘어감\n",
    "print(b.name)\n",
    "print(b.gene) # 여러개의 클래스를 상속할 경우 앞의 상속이 우선시 됨\n",
    "\n",
    "b.swim()\n",
    "b.run()"
   ]
  },
  {
   "cell_type": "code",
   "execution_count": null,
   "id": "a52d7923-f6ca-46fc-8f2b-6a38efc8a4de",
   "metadata": {},
   "outputs": [],
   "source": []
  },
  {
   "cell_type": "code",
   "execution_count": null,
   "id": "75ba7eda-5c19-4489-b116-afeaabfc5326",
   "metadata": {},
   "outputs": [],
   "source": []
  },
  {
   "cell_type": "code",
   "execution_count": null,
   "id": "152262c1-ff3a-4785-8a56-a73272207e08",
   "metadata": {},
   "outputs": [],
   "source": []
  }
 ],
 "metadata": {
  "kernelspec": {
   "display_name": "Python 3 (ipykernel)",
   "language": "python",
   "name": "python3"
  },
  "language_info": {
   "codemirror_mode": {
    "name": "ipython",
    "version": 3
   },
   "file_extension": ".py",
   "mimetype": "text/x-python",
   "name": "python",
   "nbconvert_exporter": "python",
   "pygments_lexer": "ipython3",
   "version": "3.11.5"
  }
 },
 "nbformat": 4,
 "nbformat_minor": 5
}
