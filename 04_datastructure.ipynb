{
 "cells": [
  {
   "cell_type": "markdown",
   "id": "b5debae4-ac33-49df-8c48-8409ffa9d7d7",
   "metadata": {},
   "source": [
    "# 문자열 메소드(함수)"
   ]
  },
  {
   "cell_type": "code",
   "execution_count": 2,
   "id": "296169e7-9200-4c45-9f05-e0a63bc942d2",
   "metadata": {},
   "outputs": [],
   "source": [
    "a = 'hello my name is hong'"
   ]
  },
  {
   "cell_type": "code",
   "execution_count": 3,
   "id": "906ab009-fc52-47b2-b630-7a2fef488b13",
   "metadata": {},
   "outputs": [
    {
     "ename": "TypeError",
     "evalue": "'str' object does not support item assignment",
     "output_type": "error",
     "traceback": [
      "\u001b[1;31m---------------------------------------------------------------------------\u001b[0m",
      "\u001b[1;31mTypeError\u001b[0m                                 Traceback (most recent call last)",
      "Cell \u001b[1;32mIn[3], line 2\u001b[0m\n\u001b[0;32m      1\u001b[0m \u001b[38;5;66;03m# 문자열은 immutable하기 때문에 수정 불가능\u001b[39;00m\n\u001b[1;32m----> 2\u001b[0m \u001b[43ma\u001b[49m\u001b[43m[\u001b[49m\u001b[38;5;241;43m0\u001b[39;49m\u001b[43m]\u001b[49m \u001b[38;5;241m=\u001b[39m \u001b[38;5;124m'\u001b[39m\u001b[38;5;124mH\u001b[39m\u001b[38;5;124m'\u001b[39m\n",
      "\u001b[1;31mTypeError\u001b[0m: 'str' object does not support item assignment"
     ]
    }
   ],
   "source": [
    "# 문자열은 immutable하기 때문에 수정 불가능\n",
    "a[0] = 'H'"
   ]
  },
  {
   "cell_type": "code",
   "execution_count": 6,
   "id": "8cdcac2c-1b3d-47c2-b360-9e74378d732d",
   "metadata": {},
   "outputs": [
    {
     "name": "stdout",
     "output_type": "stream",
     "text": [
      "Hello my name is hong\n"
     ]
    }
   ],
   "source": [
    "a = a.capitalize() #시작하는 문자를 대문자로 바꿔줌\n",
    "print(a)"
   ]
  },
  {
   "cell_type": "code",
   "execution_count": 8,
   "id": "245f3ed0-158f-46e5-b17b-6f19ad964375",
   "metadata": {},
   "outputs": [
    {
     "data": {
      "text/plain": [
       "'Hello My Name Is Hong'"
      ]
     },
     "execution_count": 8,
     "metadata": {},
     "output_type": "execute_result"
    }
   ],
   "source": [
    "a.title() # 단어마다 시작하는 문자를 대문자로 바꿔줌"
   ]
  },
  {
   "cell_type": "code",
   "execution_count": 9,
   "id": "f036580b-adc2-45e6-8b1a-768aae1539b2",
   "metadata": {},
   "outputs": [
    {
     "data": {
      "text/plain": [
       "'HELLO MY NAME IS HONG'"
      ]
     },
     "execution_count": 9,
     "metadata": {},
     "output_type": "execute_result"
    }
   ],
   "source": [
    "a.upper()"
   ]
  },
  {
   "cell_type": "code",
   "execution_count": 10,
   "id": "5bbb601c-e605-4cfa-b521-bc6f762be0fa",
   "metadata": {},
   "outputs": [
    {
     "data": {
      "text/plain": [
       "'hello my name is hong'"
      ]
     },
     "execution_count": 10,
     "metadata": {},
     "output_type": "execute_result"
    }
   ],
   "source": [
    "a.lower()"
   ]
  },
  {
   "cell_type": "code",
   "execution_count": 17,
   "id": "770f7621-8893-478b-b7a5-2b3928643873",
   "metadata": {},
   "outputs": [
    {
     "data": {
      "text/plain": [
       "'hi/my/name'"
      ]
     },
     "execution_count": 17,
     "metadata": {},
     "output_type": "execute_result"
    }
   ],
   "source": [
    "my_list = ['hi', 'my', 'name', ]\n",
    "'/'.join(my_list)"
   ]
  },
  {
   "cell_type": "code",
   "execution_count": 31,
   "id": "a0305359-6acd-45c1-9c14-0a7e0bd8e7e5",
   "metadata": {},
   "outputs": [
    {
     "name": "stdout",
     "output_type": "stream",
     "text": [
      "     \n",
      " hello \n",
      " \n",
      "hello\n",
      "hihihihihihihihihihihellohihihihihi\n",
      "ello\n",
      "ellohihihihihi\n",
      "hihihihihihihihihihihello\n"
     ]
    }
   ],
   "source": [
    "#strip([chars]) / 메소드 설명에서 []는 넣어도 되고 안 넣어도 됨을 의미.\n",
    "\n",
    "my_string = '     \\n hello \\n '\n",
    "print(my_string)\n",
    "print(my_string.strip())\n",
    "\n",
    "my_string2 = 'hihihihihihihihihihihellohihihihihi'\n",
    "print(my_string2.strip())\n",
    "print(my_string2.strip('hi'))\n",
    "print(my_string2.lstrip('hi'))\n",
    "print(my_string2.rstrip('hi'))\n"
   ]
  },
  {
   "cell_type": "code",
   "execution_count": 35,
   "id": "a7022ee8-2b66-438f-af2c-09c7691ae89d",
   "metadata": {},
   "outputs": [
    {
     "name": "stdout",
     "output_type": "stream",
     "text": [
      "w!!!!!!w\n",
      "w!!!!oow\n"
     ]
    }
   ],
   "source": [
    "# .replace(old, new[, count])\n",
    "a = 'woooooow'\n",
    "print(a.replace('o', '!'))\n",
    "print(a.replace('o', '!', 4))"
   ]
  },
  {
   "cell_type": "code",
   "execution_count": 41,
   "id": "8d26f0f3-89c2-402d-8945-99bdcef719b0",
   "metadata": {},
   "outputs": [
    {
     "name": "stdout",
     "output_type": "stream",
     "text": [
      "3\n",
      "-1\n",
      "-1\n"
     ]
    }
   ],
   "source": [
    "# .find(x)\n",
    "a = 'apple'\n",
    "print(a.find('l'))\n",
    "print(a.find('z'))\n",
    "\n",
    "# for i in range(len(a)):\n",
    "#     if 'z' == a[i]:\n",
    "#         print(i)\n",
    "#         break\n",
    "# else:\n",
    "#         print(-1)"
   ]
  },
  {
   "cell_type": "code",
   "execution_count": null,
   "id": "3ee04459-417a-4068-8022-4fc8b5e35060",
   "metadata": {},
   "outputs": [],
   "source": [
    "# index(x)   / find와 비슷하지만 자료가 없을 경우 error를 출력\n",
    "a = 'apple'\n",
    "print(a.find('l'))\n",
    "print(a.find('z'))"
   ]
  },
  {
   "cell_type": "code",
   "execution_count": 250,
   "id": "ced657a6-b6a7-46d0-b6f4-d5b181c1c17a",
   "metadata": {},
   "outputs": [
    {
     "data": {
      "text/plain": [
       "['my', 'name is']"
      ]
     },
     "execution_count": 250,
     "metadata": {},
     "output_type": "execute_result"
    }
   ],
   "source": [
    "# split(x)\n",
    "a = 'my_name is'\n",
    "a.split()\n",
    "a.split('_')"
   ]
  },
  {
   "cell_type": "code",
   "execution_count": 55,
   "id": "08ba2baf-f491-42b9-a2ab-64f20285bbda",
   "metadata": {},
   "outputs": [
    {
     "data": {
      "text/plain": [
       "5"
      ]
     },
     "execution_count": 55,
     "metadata": {},
     "output_type": "execute_result"
    }
   ],
   "source": [
    "# count(x)\n",
    "'wooooow'.count('o')"
   ]
  },
  {
   "cell_type": "markdown",
   "id": "442f772f-446d-44ae-896b-9ba14b60b474",
   "metadata": {},
   "source": [
    "# 리스트 메소드"
   ]
  },
  {
   "cell_type": "code",
   "execution_count": 117,
   "id": "65964d8b-8123-4caf-9a59-ab3bfaffd05f",
   "metadata": {},
   "outputs": [],
   "source": [
    "numbers = [1, 5, 2, 6, 2, 1]"
   ]
  },
  {
   "cell_type": "code",
   "execution_count": 118,
   "id": "d993d51d-1b6f-4766-9b68-1e5789b3107e",
   "metadata": {},
   "outputs": [
    {
     "name": "stdout",
     "output_type": "stream",
     "text": [
      "[1, 5, 2, 6, 2, 1, 10]\n"
     ]
    }
   ],
   "source": [
    "# .append(x) / 끝쪽에 데이터를 넣어줌\n",
    "numbers.append(10)\n",
    "print(numbers)"
   ]
  },
  {
   "cell_type": "code",
   "execution_count": 119,
   "id": "44027e7d-97d5-46bd-9b69-cd6f7ddb0c9a",
   "metadata": {},
   "outputs": [
    {
     "name": "stdout",
     "output_type": "stream",
     "text": [
      "[1, 5, 2, 6, 2, 1, 10, 99, 100]\n",
      "[1, 5, 2, 6, 2, 1, 10, 99, 100, 99, 100]\n"
     ]
    }
   ],
   "source": [
    "# .extend(iterable) / 연결 \n",
    "a = [99, 100]\n",
    "\n",
    "numbers.extend(a)\n",
    "print(numbers)\n",
    "print(numbers + a)"
   ]
  },
  {
   "cell_type": "code",
   "execution_count": 120,
   "id": "25f592ea-7065-40f2-8951-406ce866e224",
   "metadata": {},
   "outputs": [
    {
     "name": "stdout",
     "output_type": "stream",
     "text": [
      "[1, 5, 2, 3.5, 6, 2, 1, 10, 99, 100]\n"
     ]
    }
   ],
   "source": [
    "# .insert(idx, x)  / 원하는 위치에 데이터를 넣음\n",
    "numbers.insert(3, 3.5)\n",
    "print(numbers)"
   ]
  },
  {
   "cell_type": "code",
   "execution_count": 121,
   "id": "8c814068-1535-4acb-afad-b1f45c63e176",
   "metadata": {},
   "outputs": [
    {
     "name": "stdout",
     "output_type": "stream",
     "text": [
      "[5, 2, 6, 2, 1, 10, 99, 100]\n"
     ]
    }
   ],
   "source": [
    "# .remove(x) / 원하는 데이터를 앞쪽부터 삭제\n",
    "numbers.remove(3.5)\n",
    "numbers.remove(1)\n",
    "print(numbers)"
   ]
  },
  {
   "cell_type": "code",
   "execution_count": 122,
   "id": "54a05b17-753a-4afb-9e49-3c250e6476a5",
   "metadata": {},
   "outputs": [
    {
     "name": "stdout",
     "output_type": "stream",
     "text": [
      "[5, 2, 6, 2, 1, 10, 99]\n",
      "[2, 6, 2, 1, 10, 99]\n"
     ]
    }
   ],
   "source": [
    "# .pop(idx) / 아무것도 안 넣으면 끝에 데이터를 삭제\n",
    "numbers.pop()\n",
    "print(numbers)\n",
    "\n",
    "numbers.pop(0)\n",
    "print(numbers)"
   ]
  },
  {
   "cell_type": "code",
   "execution_count": 123,
   "id": "43016e51-ade0-40ac-ad83-db243f5b7f14",
   "metadata": {},
   "outputs": [
    {
     "name": "stdout",
     "output_type": "stream",
     "text": [
      "99\n"
     ]
    }
   ],
   "source": [
    "# pop을 2번 적으면 어떤 데이터를 삭제했는지 보임\n",
    "num = numbers.pop() # 위에서 pop한 것들을 num에 저장\n",
    "\n",
    "print(num)"
   ]
  },
  {
   "cell_type": "code",
   "execution_count": 126,
   "id": "826bfbda-1499-4237-9dd3-00d40225631d",
   "metadata": {},
   "outputs": [
    {
     "name": "stdout",
     "output_type": "stream",
     "text": [
      "[1, 3, 2, 7, 5]\n",
      "None\n",
      "[1, 2, 3, 5, 7]\n",
      "[7, 5, 3, 2, 1]\n"
     ]
    }
   ],
   "source": [
    "# .sort() / 정렬\n",
    "numbers = [1, 3, 2, 7, 5]\n",
    "print(numbers)\n",
    "print(numbers.sort()) #sort했으면 반환할게 없어서 none을 프린트\n",
    "print(numbers)\n",
    "numbers.sort(reverse = True)\n",
    "print(numbers)"
   ]
  },
  {
   "cell_type": "code",
   "execution_count": null,
   "id": "d0b1165c-3e53-471e-bdd1-eda03840964b",
   "metadata": {},
   "outputs": [],
   "source": [
    "# sorted / 원본은 그대로 놔두고 정렬한 것을 반환 / sort는 원본을 바꿈\n",
    "numbers = [1, 3, 2, 7, 5]\n",
    "print(sorted(numbers))\n",
    "print(nubers)"
   ]
  },
  {
   "cell_type": "code",
   "execution_count": 134,
   "id": "c633e295-679c-4c5e-af32-c7de175cd444",
   "metadata": {},
   "outputs": [
    {
     "name": "stdout",
     "output_type": "stream",
     "text": [
      "[5, 7, 2, 3, 1]\n",
      "[5, 7, 2, 3, 1]\n"
     ]
    }
   ],
   "source": [
    "# .reverse() / 뒤집기\n",
    "numbers = [1, 3, 2, 7, 5,]\n",
    "numbers.reverse()\n",
    "print(numbers)\n",
    "numbers[: 5: -1] #처음부터 5번째까지 역순으로 출력\n",
    "print(numbers)"
   ]
  },
  {
   "cell_type": "markdown",
   "id": "f15b39f4-6085-4713-a2ef-ee7503baf5a2",
   "metadata": {},
   "source": [
    "## list copy"
   ]
  },
  {
   "cell_type": "code",
   "execution_count": 135,
   "id": "c7e0aca5-2e35-41d0-8e56-6652f43fa36a",
   "metadata": {},
   "outputs": [],
   "source": [
    "origin_list = [1, 2, 3]\n",
    "copy_list = origin_list"
   ]
  },
  {
   "cell_type": "code",
   "execution_count": 136,
   "id": "fae0573f-d7ae-4782-af18-7896975b5c92",
   "metadata": {},
   "outputs": [
    {
     "name": "stdout",
     "output_type": "stream",
     "text": [
      "[1, 2, 3]\n",
      "[1, 2, 3]\n"
     ]
    }
   ],
   "source": [
    "print(origin_list)\n",
    "print(copy_list)"
   ]
  },
  {
   "cell_type": "code",
   "execution_count": 137,
   "id": "5492a3ab-d820-43ea-91cb-5c890cb1fdef",
   "metadata": {},
   "outputs": [],
   "source": [
    "copy_list[0] = 100"
   ]
  },
  {
   "cell_type": "code",
   "execution_count": 139,
   "id": "585fd6b1-00c8-40dd-9dcc-9c4c3b39e935",
   "metadata": {},
   "outputs": [
    {
     "name": "stdout",
     "output_type": "stream",
     "text": [
      "[100, 2, 3]\n",
      "[100, 2, 3]\n"
     ]
    }
   ],
   "source": [
    "print(origin_list)\n",
    "print(copy_list)\n",
    "# origin_list가 [1, 2, 3]의 주소를 저장하고\n",
    "# copy_list가 origin_list의 주소를 저장하기에\n",
    "# 결국 copy_list를 수정하면 origin_list도 수정된 것 처럼 보임"
   ]
  },
  {
   "cell_type": "code",
   "execution_count": 142,
   "id": "b3d66796-44c3-4121-95ea-534a9ddeba54",
   "metadata": {},
   "outputs": [
    {
     "name": "stdout",
     "output_type": "stream",
     "text": [
      "[1, 2, 3]\n",
      "[100, 2, 3]\n"
     ]
    }
   ],
   "source": [
    "# 다음과 같은 방법으로 해결가능\n",
    "origin_list = [1, 2, 3]\n",
    "copy_list = list(origin_list)\n",
    "#copy_list = origin_list[:]\n",
    "\n",
    "copy_list[0] = 100\n",
    "\n",
    "print(origin_list)\n",
    "print(copy_list)"
   ]
  },
  {
   "cell_type": "code",
   "execution_count": 144,
   "id": "30267f7c-5a38-4ec8-8b1f-51974c42da0c",
   "metadata": {},
   "outputs": [
    {
     "name": "stdout",
     "output_type": "stream",
     "text": [
      "[1, 2, [99, 1000]]\n",
      "[1, 2, [99, 1000]]\n"
     ]
    }
   ],
   "source": [
    "# 2차원 list의 경우\n",
    "a = [1, 2, [99, 100]]\n",
    "b = list(a)\n",
    "b = a[:]\n",
    "\n",
    "\n",
    "b[2][1] = 1000\n",
    "\n",
    "print(a)\n",
    "print(b)"
   ]
  },
  {
   "cell_type": "code",
   "execution_count": 148,
   "id": "2b4c5bb3-44b5-4d24-ac1f-fdf2d6205d99",
   "metadata": {},
   "outputs": [
    {
     "name": "stdout",
     "output_type": "stream",
     "text": [
      "[1, 2, [99, 100]]\n",
      "[1, 2, [99, 1000]]\n"
     ]
    }
   ],
   "source": [
    "# 2차원은 아래와 같이 해결하면됨\n",
    "import copy\n",
    "a = [1, 2, [99, 100]]\n",
    "b = copy.deepcopy(a)\n",
    "\n",
    "b[2][1] = 1000\n",
    "\n",
    "print(a)\n",
    "print(b)"
   ]
  },
  {
   "cell_type": "markdown",
   "id": "bc3f3d34-3cd5-4690-ac55-9e7bbfa3537c",
   "metadata": {},
   "source": [
    "## list comprehension"
   ]
  },
  {
   "cell_type": "code",
   "execution_count": 149,
   "id": "9c5d7ed5-5ecc-4245-8291-00e4db2499d8",
   "metadata": {},
   "outputs": [
    {
     "name": "stdout",
     "output_type": "stream",
     "text": [
      "[1, 2, 3, 4, 5, 6, 7, 8, 9, 10]\n"
     ]
    }
   ],
   "source": [
    "numbers = list(range(1, 11))\n",
    "print(numbers)"
   ]
  },
  {
   "cell_type": "code",
   "execution_count": 150,
   "id": "273cf926-7938-45ae-8eb8-93d12e9a5c60",
   "metadata": {},
   "outputs": [
    {
     "name": "stdout",
     "output_type": "stream",
     "text": [
      "[1, 8, 27, 64, 125, 216, 343, 512, 729, 1000]\n"
     ]
    }
   ],
   "source": [
    "# 각 요소르 세제곱하기(1)\n",
    "\n",
    "result = []\n",
    "for number in numbers:\n",
    "    result.append(number ** 3)\n",
    "print(result)"
   ]
  },
  {
   "cell_type": "code",
   "execution_count": 152,
   "id": "7966f982-b396-4312-a690-6253f96742b8",
   "metadata": {},
   "outputs": [
    {
     "name": "stdout",
     "output_type": "stream",
     "text": [
      "[1, 8, 27, 64, 125, 216, 343, 512, 729, 1000]\n"
     ]
    }
   ],
   "source": [
    "# 각 요소르 세제곱하기(2)\n",
    "\n",
    "result2 = [ number ** 3 for number in numbers ]\n",
    "print(result2)"
   ]
  },
  {
   "cell_type": "code",
   "execution_count": 154,
   "id": "0f303c73-69a7-4843-b0b7-298ac024a581",
   "metadata": {},
   "outputs": [
    {
     "name": "stdout",
     "output_type": "stream",
     "text": [
      "[8, 64, 216, 512, 1000]\n"
     ]
    }
   ],
   "source": [
    "# 짝수만 고르기(1)\n",
    "even_list = []\n",
    "for number in result2:\n",
    "    if number % 2 == 0:\n",
    "        even_list.append(number)\n",
    "print(even_list)"
   ]
  },
  {
   "cell_type": "code",
   "execution_count": 155,
   "id": "50c92433-6ee3-4fea-be5f-ef440fd82ce2",
   "metadata": {},
   "outputs": [
    {
     "name": "stdout",
     "output_type": "stream",
     "text": [
      "[8, 64, 216, 512, 1000]\n"
     ]
    }
   ],
   "source": [
    "# 짝수만 고르기(2)\n",
    "even_list2 = [ number for number in result2 if number % 2 == 0 ]\n",
    "print(even_list)"
   ]
  },
  {
   "cell_type": "code",
   "execution_count": 158,
   "id": "60b8833f-27a8-4d17-af55-07f1d17cbc29",
   "metadata": {},
   "outputs": [],
   "source": [
    "# 문제풀이-word에서 자음만을 추출하여 보자."
   ]
  },
  {
   "cell_type": "code",
   "execution_count": 177,
   "id": "a2b2895e-4182-47fa-bdb5-899ce8746a25",
   "metadata": {},
   "outputs": [
    {
     "name": "stdout",
     "output_type": "stream",
     "text": [
      "my nm s hng\n"
     ]
    }
   ],
   "source": [
    "# 1. for문\n",
    "words = 'my name is hong'\n",
    "vowels = 'aeiou'\n",
    "result = [] \n",
    "\n",
    "for char in words:\n",
    "    if char not in vowels:\n",
    "        result.append(char)\n",
    "print(''.join(result))"
   ]
  },
  {
   "cell_type": "code",
   "execution_count": 178,
   "id": "845681a0-d50b-4d72-bbd5-f7f8f06ccbb9",
   "metadata": {},
   "outputs": [
    {
     "name": "stdout",
     "output_type": "stream",
     "text": [
      "my nm s hng\n"
     ]
    }
   ],
   "source": [
    "# 2. list comprehension\n",
    "words = 'my name is hong'\n",
    "vowels = 'aeiou'\n",
    "result = [char for char in words if char not in vowels]\n",
    "print(''.join(result))"
   ]
  },
  {
   "cell_type": "code",
   "execution_count": 180,
   "id": "c6da070a-e957-484e-af24-08313cfe92e4",
   "metadata": {},
   "outputs": [
    {
     "name": "stdout",
     "output_type": "stream",
     "text": [
      "my nm s hng\n"
     ]
    }
   ],
   "source": [
    "# 3. replace\n",
    "words = 'my name is hong'\n",
    "vowels = 'aeiou'\n",
    "for vowel in vowels:\n",
    "    words = words.replace(vowel, '')\n",
    "\n",
    "print(words)"
   ]
  },
  {
   "cell_type": "markdown",
   "id": "1b7d0722-4322-43bb-8751-67a2e3d919df",
   "metadata": {},
   "source": [
    "# 딕셔너리 메소드"
   ]
  },
  {
   "cell_type": "code",
   "execution_count": 193,
   "id": "ace58707-95f7-461e-b3f4-478436d81963",
   "metadata": {},
   "outputs": [],
   "source": [
    "info = {\n",
    "    'name' : 'hong',\n",
    "    'location' : 'seoul',\n",
    "}"
   ]
  },
  {
   "cell_type": "code",
   "execution_count": 194,
   "id": "b726575c-88fa-474a-bd4b-3e74a69438d8",
   "metadata": {},
   "outputs": [
    {
     "name": "stdout",
     "output_type": "stream",
     "text": [
      "{'name': 'gil', 'location': 'seoul'}\n"
     ]
    }
   ],
   "source": [
    "info['name'] = 'gil'\n",
    "print(info)"
   ]
  },
  {
   "cell_type": "code",
   "execution_count": 195,
   "id": "b970e0e1-f3f3-41d4-8cd4-6d71022156f3",
   "metadata": {},
   "outputs": [
    {
     "name": "stdout",
     "output_type": "stream",
     "text": [
      "{'name': 'gil'}\n"
     ]
    },
    {
     "data": {
      "text/plain": [
       "'key가 없습니다.'"
      ]
     },
     "execution_count": 195,
     "metadata": {},
     "output_type": "execute_result"
    }
   ],
   "source": [
    "# .pop()\n",
    "info.pop('location')\n",
    "print(info)\n",
    "\n",
    "info.pop('location', 'key가 없습니다.') #봍ㅇ 'key가 없습니다.' 위치에 None을 넣음"
   ]
  },
  {
   "cell_type": "code",
   "execution_count": 196,
   "id": "a2989909-4f62-4b58-82f2-77ecb9fc4ec6",
   "metadata": {},
   "outputs": [
    {
     "name": "stdout",
     "output_type": "stream",
     "text": [
      "{'name': 'dong'}\n"
     ]
    }
   ],
   "source": [
    "# .update()\n",
    "info.update(name='dong')\n",
    "print(info)"
   ]
  },
  {
   "cell_type": "code",
   "execution_count": 201,
   "id": "94b61132-bfc7-4340-bc86-24f20662b273",
   "metadata": {},
   "outputs": [
    {
     "name": "stdout",
     "output_type": "stream",
     "text": [
      "dong\n",
      "defalut\n"
     ]
    }
   ],
   "source": [
    "# .get(key, defalut)\n",
    "print(info.get('name'))\n",
    "print(info.get('phone','defalut'))  #해당하는 key가 없을 때\n",
    "#info['phone']는 None이 아닌 error 처리"
   ]
  },
  {
   "cell_type": "markdown",
   "id": "e14bdc05-4073-44d0-9222-e64132e041d4",
   "metadata": {},
   "source": [
    "## dict comprehension"
   ]
  },
  {
   "cell_type": "code",
   "execution_count": 203,
   "id": "087f0a68-8c65-48d4-b117-f6077d5d51b4",
   "metadata": {},
   "outputs": [
    {
     "name": "stdout",
     "output_type": "stream",
     "text": [
      "{1: 1, 2: 8, 3: 27, 4: 64, 5: 125, 6: 216, 7: 343, 8: 512, 9: 729, 10: 1000}\n"
     ]
    }
   ],
   "source": [
    "# for\n",
    "# {1: 1, 2: 8, 3: 27, ... }\n",
    "result = {}\n",
    "numbers = range(1, 11)\n",
    "for number in numbers:\n",
    "    result[number] = number ** 3\n",
    "\n",
    "print(result)"
   ]
  },
  {
   "cell_type": "code",
   "execution_count": 204,
   "id": "f1be18e6-f3c0-491a-8e91-1b5b11ddb18b",
   "metadata": {},
   "outputs": [
    {
     "name": "stdout",
     "output_type": "stream",
     "text": [
      "{1: 1, 2: 8, 3: 27, 4: 64, 5: 125, 6: 216, 7: 343, 8: 512, 9: 729, 10: 1000}\n"
     ]
    }
   ],
   "source": [
    "# comprehension\n",
    "result2 = { number: number ** 3 for number in range(1, 11)}\n",
    "print(result2)\n"
   ]
  },
  {
   "cell_type": "code",
   "execution_count": 214,
   "id": "37e9e48c-3d50-43de-baa5-210f49210537",
   "metadata": {},
   "outputs": [],
   "source": [
    "# 문제풀이 _ 미세먼지 50 이상만 남도록 표시\n",
    "dust = {\n",
    "    '서울' : 100,\n",
    "    '대구' : 30,\n",
    "    '부산' : 50,\n",
    "    '광주' : 80,\n",
    "    '제주' : 20,\n",
    "}"
   ]
  },
  {
   "cell_type": "code",
   "execution_count": 216,
   "id": "cc1a984d-6660-47fd-8fe4-87af09f83e16",
   "metadata": {},
   "outputs": [
    {
     "name": "stdout",
     "output_type": "stream",
     "text": [
      "{'서울': 100, '부산': 50, '광주': 80}\n"
     ]
    }
   ],
   "source": [
    "# for\n",
    "result = {}\n",
    "for k, v in dust.items():\n",
    "    if v >= 50:\n",
    "        result[k] = v\n",
    "print(result)"
   ]
  },
  {
   "cell_type": "code",
   "execution_count": 218,
   "id": "d1fd52fa-3461-43fb-b8b9-6966ccd39325",
   "metadata": {},
   "outputs": [
    {
     "name": "stdout",
     "output_type": "stream",
     "text": [
      "{'서울': 100, '부산': 50, '광주': 80}\n"
     ]
    }
   ],
   "source": [
    "# comprehension\n",
    "result2 = { k: v for k, v in dust.items() if v >= 50}\n",
    "print(result2)"
   ]
  },
  {
   "cell_type": "code",
   "execution_count": 219,
   "id": "271d70e3-cc4b-4eb0-a817-99222ff53371",
   "metadata": {},
   "outputs": [
    {
     "name": "stdout",
     "output_type": "stream",
     "text": [
      "{'서울': '나쁨', '부산': '나쁨', '광주': '나쁨'}\n"
     ]
    }
   ],
   "source": [
    "result2 = { k: '나쁨' for k, v in dust.items() if v >= 50}\n",
    "print(result2)"
   ]
  },
  {
   "cell_type": "markdown",
   "id": "4d79a88a-7007-4adb-8bf3-1e4f949aa4b0",
   "metadata": {},
   "source": [
    "# 세트 메소드 "
   ]
  },
  {
   "cell_type": "code",
   "execution_count": 220,
   "id": "a1874938-11d6-46ab-8fb1-f40f3954bdd8",
   "metadata": {},
   "outputs": [],
   "source": [
    "fruits = {'apple', 'banana', 'melon'}"
   ]
  },
  {
   "cell_type": "code",
   "execution_count": 227,
   "id": "03c1976f-a3c0-4af5-9fa4-0103f563eacd",
   "metadata": {},
   "outputs": [
    {
     "name": "stdout",
     "output_type": "stream",
     "text": [
      "{'melon', 'watermelon', 'banana', 'apple'}\n"
     ]
    }
   ],
   "source": [
    "# .add(x)\n",
    "fruits.add('watermelon')\n",
    "print(fruits)"
   ]
  },
  {
   "cell_type": "code",
   "execution_count": 229,
   "id": "8d351c84-57bf-4ae8-8fd8-2940a55bd5a0",
   "metadata": {},
   "outputs": [
    {
     "name": "stdout",
     "output_type": "stream",
     "text": [
      "{'apple', 'watermelon', 'orange', 'banana', 'r', 'e', 'a', 'melon', 'lemon', 'p', 'g'}\n"
     ]
    }
   ],
   "source": [
    "# .update({set]) / 시퀀스 데이터를 잘라서 세트에 추가함. set로 추가하면 통으로 추가\n",
    "fruits.update('grape')\n",
    "fruits.update({'lemon', 'orange'})\n",
    "print(fruits)"
   ]
  },
  {
   "cell_type": "code",
   "execution_count": 230,
   "id": "5d10a872-ab48-4a61-b35e-eed6c7185809",
   "metadata": {},
   "outputs": [
    {
     "name": "stdout",
     "output_type": "stream",
     "text": [
      "{'apple', 'watermelon', 'banana', 'r', 'e', 'a', 'melon', 'lemon', 'p', 'g'}\n"
     ]
    }
   ],
   "source": [
    "# .remove(x)\n",
    "fruits.remove('orange')\n",
    "print(fruits)"
   ]
  },
  {
   "cell_type": "code",
   "execution_count": 231,
   "id": "d398132e-d029-4db9-b121-21941019343b",
   "metadata": {},
   "outputs": [
    {
     "name": "stdout",
     "output_type": "stream",
     "text": [
      "{'watermelon', 'banana', 'r', 'e', 'a', 'melon', 'lemon', 'p', 'g'}\n"
     ]
    }
   ],
   "source": [
    "# .pop()\n",
    "fruits.pop()\n",
    "print(fruits)"
   ]
  },
  {
   "cell_type": "markdown",
   "id": "27b86f1b-9291-4fda-8309-2928a1638115",
   "metadata": {},
   "source": [
    "## map, filter, zip"
   ]
  },
  {
   "cell_type": "markdown",
   "id": "5b470e62-94ae-4099-8818-3814a5791c18",
   "metadata": {},
   "source": [
    "- map(function, iterable)"
   ]
  },
  {
   "cell_type": "code",
   "execution_count": 234,
   "id": "86df0def-887d-4065-8d21-1a2f731bc72b",
   "metadata": {},
   "outputs": [
    {
     "name": "stdout",
     "output_type": "stream",
     "text": [
      "<map object at 0x000001AE5560E7A0>\n",
      "['1', '2', '3']\n"
     ]
    }
   ],
   "source": [
    "a = [1, 2, 3]\n",
    "number_str = map(str, a) # map 객체로 저장됨\n",
    "print(number_str)\n",
    "print(list(number_str))"
   ]
  },
  {
   "cell_type": "code",
   "execution_count": 235,
   "id": "bc20061d-69d2-4576-ac81-71fb80d07b94",
   "metadata": {},
   "outputs": [
    {
     "name": "stdout",
     "output_type": "stream",
     "text": [
      "[1, 8, 27]\n"
     ]
    }
   ],
   "source": [
    "result = []\n",
    "for i in a:\n",
    "    result.append(i ** 3)\n",
    "print(result)"
   ]
  },
  {
   "cell_type": "code",
   "execution_count": 236,
   "id": "f7b4c4f7-bf14-4e63-b098-a98d3ee6de36",
   "metadata": {},
   "outputs": [
    {
     "name": "stdout",
     "output_type": "stream",
     "text": [
      "125\n",
      "1000\n"
     ]
    }
   ],
   "source": [
    "def cube(x):\n",
    "    return x ** 3\n",
    "\n",
    "print(cube(5))\n",
    "print(cube(10))"
   ]
  },
  {
   "cell_type": "code",
   "execution_count": 237,
   "id": "c1f2c92c-43f3-4556-9320-59acba5e0bba",
   "metadata": {},
   "outputs": [
    {
     "name": "stdout",
     "output_type": "stream",
     "text": [
      "[1, 8, 27]\n"
     ]
    }
   ],
   "source": [
    "result2 = map(cube, a)\n",
    "print(list(result2))"
   ]
  },
  {
   "cell_type": "code",
   "execution_count": 238,
   "id": "59a55f5f-166f-4fdc-a86b-65ea605d224d",
   "metadata": {},
   "outputs": [
    {
     "name": "stdout",
     "output_type": "stream",
     "text": [
      "[1, 3, 5, 7, 9]\n"
     ]
    }
   ],
   "source": [
    "a = '1 3 5 7 9'\n",
    "# numbers = [1, 3, 5, 7, 9]\n",
    "numbers = list(map(int, a.split()))\n",
    "print(numbers)"
   ]
  },
  {
   "cell_type": "markdown",
   "id": "69476ce8-84ab-4d50-97bf-32990a5c3262",
   "metadata": {},
   "source": [
    "- filter(function, iterable)\n",
    "  - filter에 들어가는 function은 T/F를 반환해야한다."
   ]
  },
  {
   "cell_type": "code",
   "execution_count": 244,
   "id": "669fb7b7-c8b3-4f4f-8740-c0b6d677c6c1",
   "metadata": {},
   "outputs": [
    {
     "name": "stdout",
     "output_type": "stream",
     "text": [
      "True\n",
      "False\n"
     ]
    }
   ],
   "source": [
    "def is_odd(x):\n",
    "    if x % 2 == 1:\n",
    "        return True\n",
    "    else:\n",
    "        return False\n",
    "    # return bool(x % 2) <- 이런식으로도 가능 \n",
    "print(is_odd(5))\n",
    "print(is_odd(10))"
   ]
  },
  {
   "cell_type": "code",
   "execution_count": 241,
   "id": "dcc4148c-a98b-42f0-9317-6b00b6d55c83",
   "metadata": {},
   "outputs": [],
   "source": [
    "numbers = [1, 2, 3, 4, 5,]"
   ]
  },
  {
   "cell_type": "code",
   "execution_count": 242,
   "id": "83fcac1d-4b4d-4adc-b858-6a88f6ebcb24",
   "metadata": {},
   "outputs": [
    {
     "name": "stdout",
     "output_type": "stream",
     "text": [
      "[1, 3, 5]\n"
     ]
    }
   ],
   "source": [
    "# for\n",
    "result = []\n",
    "for number in numbers:\n",
    "    if is_odd(number):\n",
    "        result.append(number)\n",
    "print(result)"
   ]
  },
  {
   "cell_type": "code",
   "execution_count": 243,
   "id": "069bbe43-328e-4a1d-bcba-c60fa8f67795",
   "metadata": {},
   "outputs": [
    {
     "name": "stdout",
     "output_type": "stream",
     "text": [
      "[1, 3, 5]\n"
     ]
    }
   ],
   "source": [
    "# filter\n",
    "\n",
    "result2 = filter(is_odd, numbers)\n",
    "print(list(result2))"
   ]
  },
  {
   "cell_type": "markdown",
   "id": "ad08526e-3e90-49f7-ad11-99abb7d6e0f4",
   "metadata": {},
   "source": [
    "- zip"
   ]
  },
  {
   "cell_type": "code",
   "execution_count": 248,
   "id": "5c7e0eb6-1812-4b34-bf4f-22516a17714a",
   "metadata": {},
   "outputs": [],
   "source": [
    "a = [1, 2, 3, 4]\n",
    "b = [100, 200, 300, 400, 500]"
   ]
  },
  {
   "cell_type": "code",
   "execution_count": 249,
   "id": "15c0e8ab-0eba-4a6a-b92a-772e51949e57",
   "metadata": {},
   "outputs": [
    {
     "name": "stdout",
     "output_type": "stream",
     "text": [
      "<zip object at 0x000001AE555426C0>\n",
      "[(1, 100), (2, 200), (3, 300), (4, 400)]\n"
     ]
    }
   ],
   "source": [
    "result = zip(a, b)\n",
    "print(result)\n",
    "print(list(result))"
   ]
  }
 ],
 "metadata": {
  "kernelspec": {
   "display_name": "Python 3 (ipykernel)",
   "language": "python",
   "name": "python3"
  },
  "language_info": {
   "codemirror_mode": {
    "name": "ipython",
    "version": 3
   },
   "file_extension": ".py",
   "mimetype": "text/x-python",
   "name": "python",
   "nbconvert_exporter": "python",
   "pygments_lexer": "ipython3",
   "version": "3.11.5"
  }
 },
 "nbformat": 4,
 "nbformat_minor": 5
}
