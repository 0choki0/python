{
 "cells": [
  {
   "cell_type": "markdown",
   "id": "507ab47a-2930-42c2-9ff2-4964b81d450c",
   "metadata": {},
   "source": [
    "# 함수(function)"
   ]
  },
  {
   "cell_type": "code",
   "execution_count": 2,
   "id": "4e6a0d22-e710-4db3-a204-77d703b5daae",
   "metadata": {},
   "outputs": [
    {
     "name": "stdout",
     "output_type": "stream",
     "text": [
      "직사각형의 면적은 200이고, 둘레는 60입니다.\n"
     ]
    }
   ],
   "source": [
    "height = 10\n",
    "width = 20\n",
    "\n",
    "area = height * width\n",
    "perimeter = (height + width) * 2\n",
    "\n",
    "print(f'직사각형의 면적은 {area}이고, 둘레는 {perimeter}입니다.')\n"
   ]
  },
  {
   "cell_type": "markdown",
   "id": "a1d4a7ee-99ef-4ed9-8789-0cde4ca7c35e",
   "metadata": {},
   "source": [
    "## 함수의 선언과 호출\n",
    "\n",
    "- 함수의 선언\n",
    "```python\n",
    "def func_name(parameter1, parameter2):\n",
    "    code1\n",
    "    code2\n",
    "    ...\n",
    "    return value\n",
    "```\n",
    "- 함수의 호출(실행)\n",
    "```python\n",
    "func_name(parameter1, parameter2)\n",
    "```\n"
   ]
  },
  {
   "cell_type": "code",
   "execution_count": 3,
   "id": "6d715dc5-ada5-4646-bf87-3584b8a94b11",
   "metadata": {},
   "outputs": [],
   "source": [
    "def rectangle(height, width):\n",
    "    area = height * width\n",
    "    perimeter = (height + width) * 2\n",
    "    print(area, perimeter)"
   ]
  },
  {
   "cell_type": "code",
   "execution_count": 5,
   "id": "e1039a25-1314-47d7-bac4-3b527a9d73f7",
   "metadata": {},
   "outputs": [
    {
     "name": "stdout",
     "output_type": "stream",
     "text": [
      "5000 300\n",
      "200 60\n",
      "2700 240\n"
     ]
    }
   ],
   "source": [
    "rectangle(100, 50)\n",
    "rectangle(10, 20)\n",
    "rectangle(30, 90)"
   ]
  },
  {
   "cell_type": "code",
   "execution_count": 7,
   "id": "294e6d7a-a0c9-4ce5-b0e4-6dd43f3f1456",
   "metadata": {},
   "outputs": [
    {
     "data": {
      "text/plain": [
       "['ArithmeticError',\n",
       " 'AssertionError',\n",
       " 'AttributeError',\n",
       " 'BaseException',\n",
       " 'BaseExceptionGroup',\n",
       " 'BlockingIOError',\n",
       " 'BrokenPipeError',\n",
       " 'BufferError',\n",
       " 'BytesWarning',\n",
       " 'ChildProcessError',\n",
       " 'ConnectionAbortedError',\n",
       " 'ConnectionError',\n",
       " 'ConnectionRefusedError',\n",
       " 'ConnectionResetError',\n",
       " 'DeprecationWarning',\n",
       " 'EOFError',\n",
       " 'Ellipsis',\n",
       " 'EncodingWarning',\n",
       " 'EnvironmentError',\n",
       " 'Exception',\n",
       " 'ExceptionGroup',\n",
       " 'False',\n",
       " 'FileExistsError',\n",
       " 'FileNotFoundError',\n",
       " 'FloatingPointError',\n",
       " 'FutureWarning',\n",
       " 'GeneratorExit',\n",
       " 'IOError',\n",
       " 'ImportError',\n",
       " 'ImportWarning',\n",
       " 'IndentationError',\n",
       " 'IndexError',\n",
       " 'InterruptedError',\n",
       " 'IsADirectoryError',\n",
       " 'KeyError',\n",
       " 'KeyboardInterrupt',\n",
       " 'LookupError',\n",
       " 'MemoryError',\n",
       " 'ModuleNotFoundError',\n",
       " 'NameError',\n",
       " 'None',\n",
       " 'NotADirectoryError',\n",
       " 'NotImplemented',\n",
       " 'NotImplementedError',\n",
       " 'OSError',\n",
       " 'OverflowError',\n",
       " 'PendingDeprecationWarning',\n",
       " 'PermissionError',\n",
       " 'ProcessLookupError',\n",
       " 'RecursionError',\n",
       " 'ReferenceError',\n",
       " 'ResourceWarning',\n",
       " 'RuntimeError',\n",
       " 'RuntimeWarning',\n",
       " 'StopAsyncIteration',\n",
       " 'StopIteration',\n",
       " 'SyntaxError',\n",
       " 'SyntaxWarning',\n",
       " 'SystemError',\n",
       " 'SystemExit',\n",
       " 'TabError',\n",
       " 'TimeoutError',\n",
       " 'True',\n",
       " 'TypeError',\n",
       " 'UnboundLocalError',\n",
       " 'UnicodeDecodeError',\n",
       " 'UnicodeEncodeError',\n",
       " 'UnicodeError',\n",
       " 'UnicodeTranslateError',\n",
       " 'UnicodeWarning',\n",
       " 'UserWarning',\n",
       " 'ValueError',\n",
       " 'Warning',\n",
       " 'WindowsError',\n",
       " 'ZeroDivisionError',\n",
       " '__IPYTHON__',\n",
       " '__build_class__',\n",
       " '__debug__',\n",
       " '__doc__',\n",
       " '__import__',\n",
       " '__loader__',\n",
       " '__name__',\n",
       " '__package__',\n",
       " '__spec__',\n",
       " 'abs',\n",
       " 'aiter',\n",
       " 'all',\n",
       " 'anext',\n",
       " 'any',\n",
       " 'ascii',\n",
       " 'bin',\n",
       " 'bool',\n",
       " 'breakpoint',\n",
       " 'bytearray',\n",
       " 'bytes',\n",
       " 'callable',\n",
       " 'chr',\n",
       " 'classmethod',\n",
       " 'compile',\n",
       " 'complex',\n",
       " 'copyright',\n",
       " 'credits',\n",
       " 'delattr',\n",
       " 'dict',\n",
       " 'dir',\n",
       " 'display',\n",
       " 'divmod',\n",
       " 'enumerate',\n",
       " 'eval',\n",
       " 'exec',\n",
       " 'execfile',\n",
       " 'filter',\n",
       " 'float',\n",
       " 'format',\n",
       " 'frozenset',\n",
       " 'get_ipython',\n",
       " 'getattr',\n",
       " 'globals',\n",
       " 'hasattr',\n",
       " 'hash',\n",
       " 'help',\n",
       " 'hex',\n",
       " 'id',\n",
       " 'input',\n",
       " 'int',\n",
       " 'isinstance',\n",
       " 'issubclass',\n",
       " 'iter',\n",
       " 'len',\n",
       " 'license',\n",
       " 'list',\n",
       " 'locals',\n",
       " 'map',\n",
       " 'max',\n",
       " 'memoryview',\n",
       " 'min',\n",
       " 'next',\n",
       " 'object',\n",
       " 'oct',\n",
       " 'open',\n",
       " 'ord',\n",
       " 'pow',\n",
       " 'print',\n",
       " 'property',\n",
       " 'range',\n",
       " 'repr',\n",
       " 'reversed',\n",
       " 'round',\n",
       " 'runfile',\n",
       " 'set',\n",
       " 'setattr',\n",
       " 'slice',\n",
       " 'sorted',\n",
       " 'staticmethod',\n",
       " 'str',\n",
       " 'sum',\n",
       " 'super',\n",
       " 'tuple',\n",
       " 'type',\n",
       " 'vars',\n",
       " 'zip']"
      ]
     },
     "execution_count": 7,
     "metadata": {},
     "output_type": "execute_result"
    }
   ],
   "source": [
    "dir(__builtins__) #파이썬 내장함수 리스트 보기"
   ]
  },
  {
   "cell_type": "code",
   "execution_count": 8,
   "id": "2002f851-a1a4-4aae-b847-44b5389a06e3",
   "metadata": {},
   "outputs": [
    {
     "data": {
      "text/plain": [
       "6"
      ]
     },
     "execution_count": 8,
     "metadata": {},
     "output_type": "execute_result"
    }
   ],
   "source": [
    "max(1, 3, 5, 6)"
   ]
  },
  {
   "cell_type": "code",
   "execution_count": 12,
   "id": "14c47797-8038-47a0-957d-34738363883f",
   "metadata": {},
   "outputs": [],
   "source": [
    "# 두개의 정수를 받아서 큰 수를 출력하는 함수 만들기\n",
    "def my_max(num1, num2):\n",
    "    if num1 > num2:\n",
    "        print(num1)\n",
    "    elif num1 < num2:\n",
    "        print(num2)\n",
    "    else:\n",
    "        print('같은 수 입니다.')"
   ]
  },
  {
   "cell_type": "code",
   "execution_count": 13,
   "id": "c316d9e4-6d50-40eb-a84b-ded09a1c03dc",
   "metadata": {},
   "outputs": [
    {
     "name": "stdout",
     "output_type": "stream",
     "text": [
      "2\n"
     ]
    }
   ],
   "source": [
    "my_max(1, 2)"
   ]
  },
  {
   "cell_type": "markdown",
   "id": "d4147772-82e1-4c3e-bb14-ad3d17af8495",
   "metadata": {},
   "source": [
    "## 함수의 return\n",
    "\n",
    "- 함수가 return을 만나면 해당 값을 반환하고 함수를 종료\n",
    "- 만약 return이 없다면 None을 자동으로 반환\n",
    "- return은 오직 하나의 객체만을 반환"
   ]
  },
  {
   "cell_type": "code",
   "execution_count": 14,
   "id": "e542eb3d-4dc6-479a-b314-7d76850baef7",
   "metadata": {},
   "outputs": [],
   "source": [
    "# 두개의 정수를 받아서 큰 수를 반환하는 함수 만들기\n",
    "def my_max2(num1, num2):\n",
    "    if num1 > num2:\n",
    "        return num1\n",
    "    elif num1 < num2:\n",
    "        return num2\n",
    "    else:\n",
    "        return num1"
   ]
  },
  {
   "cell_type": "code",
   "execution_count": 15,
   "id": "3cc0ead2-0495-4f11-a9cc-89ac50822a3f",
   "metadata": {},
   "outputs": [
    {
     "data": {
      "text/plain": [
       "2"
      ]
     },
     "execution_count": 15,
     "metadata": {},
     "output_type": "execute_result"
    }
   ],
   "source": [
    "my_max2(1, 2)"
   ]
  },
  {
   "cell_type": "code",
   "execution_count": 16,
   "id": "45619181-4c3f-4065-99c2-b8f40688b151",
   "metadata": {},
   "outputs": [],
   "source": [
    "#list1과 list2의 각 자료의 총합이 더 큰 list를 반환하는 함수 만들기\n",
    "def my_list_max(list1, list2):\n",
    "    if sum(list1) > sum(list2):\n",
    "        return list1\n",
    "    else:\n",
    "        return list2"
   ]
  },
  {
   "cell_type": "code",
   "execution_count": 17,
   "id": "ee64d562-207f-4482-b71d-b7f6aad12340",
   "metadata": {},
   "outputs": [
    {
     "data": {
      "text/plain": [
       "[3, 4, 5]"
      ]
     },
     "execution_count": 17,
     "metadata": {},
     "output_type": "execute_result"
    }
   ],
   "source": [
    "my_list_max([1, 2, 3,], [3, 4, 5])"
   ]
  },
  {
   "cell_type": "code",
   "execution_count": 18,
   "id": "07123677-0b25-43e4-ae0f-ed56350c68a1",
   "metadata": {},
   "outputs": [],
   "source": [
    "# 연습\n",
    "def my_def(x):\n",
    "    return 2 * x"
   ]
  },
  {
   "cell_type": "code",
   "execution_count": 19,
   "id": "13f941b1-6043-4145-847d-ebd86790e06e",
   "metadata": {},
   "outputs": [
    {
     "data": {
      "text/plain": [
       "10"
      ]
     },
     "execution_count": 19,
     "metadata": {},
     "output_type": "execute_result"
    }
   ],
   "source": [
    "my_def(5)"
   ]
  },
  {
   "cell_type": "markdown",
   "id": "10e06aba-ad96-4ff5-9e8b-5b854b74ec40",
   "metadata": {},
   "source": [
    "## 함수의 인수\n",
    "\n",
    "### 위치인수\n",
    "기본적으로 함수는 인수의 위치로 판단한다."
   ]
  },
  {
   "cell_type": "code",
   "execution_count": 22,
   "id": "a5bdc91d-b262-4709-911b-7c45114ac530",
   "metadata": {},
   "outputs": [],
   "source": [
    "def cylinder(r, h):\n",
    "    return 3.14 * r**2 * h"
   ]
  },
  {
   "cell_type": "code",
   "execution_count": 24,
   "id": "0e994ad8-06c6-4560-9494-3aad028576d1",
   "metadata": {},
   "outputs": [
    {
     "name": "stdout",
     "output_type": "stream",
     "text": [
      "1570.0\n",
      "785.0\n"
     ]
    }
   ],
   "source": [
    "print(cylinder(10, 5))\n",
    "print(cylinder(5, 10))"
   ]
  },
  {
   "cell_type": "markdown",
   "id": "b9364d80-6ae3-440d-b639-7e1b18135cd4",
   "metadata": {},
   "source": [
    "### 기본값\n",
    "```python\n",
    "def func(p1=v1):\n",
    "    code...\n",
    "    return p1\n",
    "```"
   ]
  },
  {
   "cell_type": "code",
   "execution_count": 30,
   "id": "8b4bc414-3d64-4247-9536-0bf15a7f0776",
   "metadata": {},
   "outputs": [],
   "source": [
    "def greeting(name='익명'): # 데이터가 없을 경우 기본값 데이터를 사용함\n",
    "    return f'{name}님 안녕하세요!!'"
   ]
  },
  {
   "cell_type": "code",
   "execution_count": 31,
   "id": "d08280b3-9b9a-47a0-b3ea-2c11a0daefb6",
   "metadata": {},
   "outputs": [
    {
     "data": {
      "text/plain": [
       "'길동님 안녕하세요!!'"
      ]
     },
     "execution_count": 31,
     "metadata": {},
     "output_type": "execute_result"
    }
   ],
   "source": [
    "greeting('길동')"
   ]
  },
  {
   "cell_type": "code",
   "execution_count": 32,
   "id": "32b2cf7b-1234-416e-885f-4974a5e6a802",
   "metadata": {},
   "outputs": [
    {
     "data": {
      "text/plain": [
       "'익명님 안녕하세요!!'"
      ]
     },
     "execution_count": 32,
     "metadata": {},
     "output_type": "execute_result"
    }
   ],
   "source": [
    "greeting()"
   ]
  },
  {
   "cell_type": "code",
   "execution_count": 35,
   "id": "f95baeb2-33fb-4a10-b623-0da44629cc41",
   "metadata": {},
   "outputs": [],
   "source": [
    "def greeting(name='익명', age=''): #기본값이 있기 때문에 입력값을 어디에 둘지 정해지지 않아 기본값을 설정해야함.\n",
    "    return f'{name}님은 {age}살 입니다'"
   ]
  },
  {
   "cell_type": "code",
   "execution_count": 37,
   "id": "3a686ce1-332b-4cf4-a7f4-feff01ff73f2",
   "metadata": {},
   "outputs": [
    {
     "data": {
      "text/plain": [
       "'길동님은 25살 입니다'"
      ]
     },
     "execution_count": 37,
     "metadata": {},
     "output_type": "execute_result"
    }
   ],
   "source": [
    "greeting('길동', 25)"
   ]
  },
  {
   "cell_type": "markdown",
   "id": "84ca723b-ed74-40de-a4dc-8c6add50d45a",
   "metadata": {},
   "source": [
    "### 키워드 인자\n",
    "함수를 호출(실행)할 때 내가 원하는 위치에 직접적으로 특정인자를 전달 가능"
   ]
  },
  {
   "cell_type": "code",
   "execution_count": 38,
   "id": "68db4a14-3972-4732-bf56-74fa108e6c08",
   "metadata": {},
   "outputs": [],
   "source": [
    "def greeting(age, name='익명'):\n",
    "    return f'{name}님은 {age}살입니다.'"
   ]
  },
  {
   "cell_type": "code",
   "execution_count": 42,
   "id": "bf938c9c-500a-4bb5-a2df-9223d8241f00",
   "metadata": {},
   "outputs": [
    {
     "name": "stdout",
     "output_type": "stream",
     "text": [
      "익명님은 10살입니다.\n",
      "길동님은 20살입니다.\n",
      "길동님은 30살입니다.\n"
     ]
    }
   ],
   "source": [
    "print(greeting(10))\n",
    "print(greeting(20, '길동'))\n",
    "print(greeting(name='길동', age=30))"
   ]
  },
  {
   "cell_type": "markdown",
   "id": "3e8ed48e-0eac-4c87-90a0-e0c66c56ce2d",
   "metadata": {},
   "source": [
    "## 가변 인자 리스트\n",
    ": 변수의 갯수가 정해지지 않았을 때 *을 사용함\n",
    "\n",
    "```python\n",
    "def func(*words):\n",
    "    code\n",
    "```"
   ]
  },
  {
   "cell_type": "code",
   "execution_count": 45,
   "id": "e9555447-d87c-43ea-ac6f-9dada5d4b23d",
   "metadata": {},
   "outputs": [],
   "source": [
    "def my_print(*words):\n",
    "    print(words)\n",
    "    print(type(words))"
   ]
  },
  {
   "cell_type": "code",
   "execution_count": 46,
   "id": "d56ab072-68e8-4529-a84c-c0aeb0c786d4",
   "metadata": {},
   "outputs": [
    {
     "name": "stdout",
     "output_type": "stream",
     "text": [
      "('a', 'b', 'c', 'd')\n",
      "<class 'tuple'>\n"
     ]
    }
   ],
   "source": [
    "my_print('a', 'b', 'c', 'd')"
   ]
  },
  {
   "cell_type": "code",
   "execution_count": 47,
   "id": "e1152353-eca2-415d-ba79-4d5294da50ba",
   "metadata": {},
   "outputs": [],
   "source": [
    "# 여러개의 숫자를 받아 그중 가장 큰 수를 리턴\n",
    "def my_max(*numbers):\n",
    "    return max(numbers)"
   ]
  },
  {
   "cell_type": "code",
   "execution_count": 54,
   "id": "a1b97074-b7e8-4a7a-9af4-42436023cefd",
   "metadata": {},
   "outputs": [],
   "source": [
    "# 여러개의 숫자를 받아 그중 가장 큰 수를 리턴(2)\n",
    "def my_max(*numbers):\n",
    "    result = numbers[0]\n",
    "\n",
    "    for number in numbers:\n",
    "        if result < number:\n",
    "            result = number\n",
    "            \n",
    "    return result"
   ]
  },
  {
   "cell_type": "code",
   "execution_count": 55,
   "id": "b181ef08-814f-47bf-b415-ea4e87ed07eb",
   "metadata": {},
   "outputs": [
    {
     "name": "stdout",
     "output_type": "stream",
     "text": [
      "3\n",
      "-1\n"
     ]
    }
   ],
   "source": [
    "print(my_max(1, 2, 3))\n",
    "print(my_max(-1, -2, -3))"
   ]
  },
  {
   "cell_type": "markdown",
   "id": "f7e72992-272d-4202-aa05-cf4dbd7c3342",
   "metadata": {},
   "source": [
    "### 정의되지 않은 키워드 인자 처리하기\n",
    "```python\n",
    "def func(**kwargs):\n",
    "    code\n",
    "    ...\n",
    "```"
   ]
  },
  {
   "cell_type": "code",
   "execution_count": 57,
   "id": "93f35e25-7af3-4ad6-9bc5-10a3a78823d4",
   "metadata": {},
   "outputs": [
    {
     "name": "stdout",
     "output_type": "stream",
     "text": [
      "{'name': 'hong', 'age': 10}\n"
     ]
    }
   ],
   "source": [
    "info = {\n",
    "    'name' : 'hong',\n",
    "    'age' : 10,\n",
    "}\n",
    "print(info)"
   ]
  },
  {
   "cell_type": "code",
   "execution_count": 58,
   "id": "bce4d2c5-1630-463e-8677-9c0c2740e9af",
   "metadata": {},
   "outputs": [
    {
     "name": "stdout",
     "output_type": "stream",
     "text": [
      "{'name': 'hong', 'age': 20}\n"
     ]
    }
   ],
   "source": [
    "info = dict(name='hong', age=20)\n",
    "print(info)"
   ]
  },
  {
   "cell_type": "code",
   "execution_count": 61,
   "id": "4031212e-8923-4d48-8bf7-a85e6da42b7e",
   "metadata": {},
   "outputs": [],
   "source": [
    "def fake_dict(**kwargs):\n",
    "    for key, value in kwargs.items():\n",
    "        print(f'{key}는 {value}입니다.')"
   ]
  },
  {
   "cell_type": "code",
   "execution_count": 63,
   "id": "7fd21c14-1407-4286-896b-af3324aa2e7b",
   "metadata": {},
   "outputs": [
    {
     "name": "stdout",
     "output_type": "stream",
     "text": [
      "a는 10입니다.\n",
      "b는 20입니다.\n",
      "korean는 안녕입니다.\n",
      "english는 hello입니다.\n"
     ]
    }
   ],
   "source": [
    "fake_dict(a=10, b=20)\n",
    "fake_dict(korean='안녕', english='hello')"
   ]
  },
  {
   "cell_type": "markdown",
   "id": "89eae601-af57-4b20-bfe6-f49e18002921",
   "metadata": {},
   "source": [
    "### dictionary를 인자로 넣기(unpacking)"
   ]
  },
  {
   "cell_type": "code",
   "execution_count": 64,
   "id": "b04db8c8-306e-45ee-802d-e10106df8a83",
   "metadata": {},
   "outputs": [],
   "source": [
    "def sign_up(id, pw, pw_confirmation):\n",
    "    if pw == pw_confirmation:\n",
    "        print(f'{id}님 회원가입이 완료되었습니다.')\n",
    "    else:\n",
    "        print('비밀번호가 일치하지 않습니다.')"
   ]
  },
  {
   "cell_type": "code",
   "execution_count": 65,
   "id": "39c04864-fb57-4783-b59c-115e2254e87b",
   "metadata": {},
   "outputs": [
    {
     "name": "stdout",
     "output_type": "stream",
     "text": [
      "hong님 회원가입이 완료되었습니다.\n",
      "비밀번호가 일치하지 않습니다.\n"
     ]
    }
   ],
   "source": [
    "sign_up('hong', '1234', '1234',)\n",
    "sign_up('hong', '1234', '4321',)"
   ]
  },
  {
   "cell_type": "code",
   "execution_count": 66,
   "id": "dbe4326f-c1d2-4321-b6a3-56a343d1e55a",
   "metadata": {},
   "outputs": [
    {
     "name": "stdout",
     "output_type": "stream",
     "text": [
      "hong님 회원가입이 완료되었습니다.\n"
     ]
    }
   ],
   "source": [
    "account = {\n",
    "    'id' : 'hong',\n",
    "    'pw' : '1234',\n",
    "    'pw_confirmation' : '1234',\n",
    "}\n",
    "sign_up(**account)"
   ]
  },
  {
   "cell_type": "markdown",
   "id": "c050961c-377c-4b40-8a7a-52338c7ea81f",
   "metadata": {},
   "source": [
    "### lambda 표현식\n",
    "\n",
    "```python\n",
    "lambda parameter : expression\n",
    "```"
   ]
  },
  {
   "cell_type": "code",
   "execution_count": null,
   "id": "9c1cd775-720c-4193-a654-f833d41077cf",
   "metadata": {},
   "outputs": [],
   "source": [
    "아래의 두 코드는 동일한 코드임"
   ]
  },
  {
   "cell_type": "code",
   "execution_count": 71,
   "id": "f53ca471-6b6c-4a4e-bdd4-9e2b2053d683",
   "metadata": {},
   "outputs": [
    {
     "data": {
      "text/plain": [
       "3"
      ]
     },
     "execution_count": 71,
     "metadata": {},
     "output_type": "execute_result"
    }
   ],
   "source": [
    "(lambda x, y: x + y)(1, 2)"
   ]
  },
  {
   "cell_type": "code",
   "execution_count": 69,
   "id": "1271a683-e91f-4218-8226-fdc2a5101724",
   "metadata": {},
   "outputs": [
    {
     "data": {
      "text/plain": [
       "3"
      ]
     },
     "execution_count": 69,
     "metadata": {},
     "output_type": "execute_result"
    }
   ],
   "source": [
    "def my_sum(x, y):\n",
    "    return x + y\n",
    "\n",
    "my_sum(1, 2)"
   ]
  },
  {
   "cell_type": "markdown",
   "id": "01365c12-a145-4c28-8360-0c42df801397",
   "metadata": {},
   "source": [
    "### type hint"
   ]
  },
  {
   "cell_type": "code",
   "execution_count": 82,
   "id": "7d79b5cd-4220-4c27-a612-f0809eac8d9d",
   "metadata": {},
   "outputs": [],
   "source": [
    "def my_sum(a: int, b: int) -> int: #데이터 입력을 할 때 힌트를 남김.\n",
    "    return a + b"
   ]
  },
  {
   "cell_type": "code",
   "execution_count": 83,
   "id": "f1512029-bbd8-45ee-9c47-c74f5a000282",
   "metadata": {},
   "outputs": [
    {
     "ename": "TypeError",
     "evalue": "can only concatenate str (not \"int\") to str",
     "output_type": "error",
     "traceback": [
      "\u001b[1;31m---------------------------------------------------------------------------\u001b[0m",
      "\u001b[1;31mTypeError\u001b[0m                                 Traceback (most recent call last)",
      "Cell \u001b[1;32mIn[83], line 1\u001b[0m\n\u001b[1;32m----> 1\u001b[0m \u001b[43mmy_sum\u001b[49m\u001b[43m(\u001b[49m\u001b[38;5;124;43m'\u001b[39;49m\u001b[38;5;124;43m1\u001b[39;49m\u001b[38;5;124;43m'\u001b[39;49m\u001b[43m,\u001b[49m\u001b[43m \u001b[49m\u001b[38;5;241;43m2\u001b[39;49m\u001b[43m)\u001b[49m\n",
      "Cell \u001b[1;32mIn[82], line 2\u001b[0m, in \u001b[0;36mmy_sum\u001b[1;34m(a, b)\u001b[0m\n\u001b[0;32m      1\u001b[0m \u001b[38;5;28;01mdef\u001b[39;00m \u001b[38;5;21mmy_sum\u001b[39m(a: \u001b[38;5;28mint\u001b[39m, b: \u001b[38;5;28mint\u001b[39m) \u001b[38;5;241m-\u001b[39m\u001b[38;5;241m>\u001b[39m \u001b[38;5;28mint\u001b[39m: \u001b[38;5;66;03m#데이터 입력을 할 때 힌트를 남김.\u001b[39;00m\n\u001b[1;32m----> 2\u001b[0m     \u001b[38;5;28;01mreturn\u001b[39;00m \u001b[43ma\u001b[49m\u001b[43m \u001b[49m\u001b[38;5;241;43m+\u001b[39;49m\u001b[43m \u001b[49m\u001b[43mb\u001b[49m\n",
      "\u001b[1;31mTypeError\u001b[0m: can only concatenate str (not \"int\") to str"
     ]
    }
   ],
   "source": [
    "my_sum('1', 2)"
   ]
  },
  {
   "cell_type": "code",
   "execution_count": null,
   "id": "963b1049-10d1-42b5-9e47-07109ba16f98",
   "metadata": {},
   "outputs": [],
   "source": []
  },
  {
   "cell_type": "code",
   "execution_count": null,
   "id": "9a665a68-d2a8-45f0-94a7-88393dcfd214",
   "metadata": {},
   "outputs": [],
   "source": []
  },
  {
   "cell_type": "code",
   "execution_count": null,
   "id": "2dfc8cef-b2f7-4c83-b223-0041bc365f23",
   "metadata": {},
   "outputs": [],
   "source": []
  },
  {
   "cell_type": "code",
   "execution_count": null,
   "id": "1522e060-7ba1-45ba-a0b7-bf5eaaf374ce",
   "metadata": {},
   "outputs": [],
   "source": []
  }
 ],
 "metadata": {
  "kernelspec": {
   "display_name": "Python 3 (ipykernel)",
   "language": "python",
   "name": "python3"
  },
  "language_info": {
   "codemirror_mode": {
    "name": "ipython",
    "version": 3
   },
   "file_extension": ".py",
   "mimetype": "text/x-python",
   "name": "python",
   "nbconvert_exporter": "python",
   "pygments_lexer": "ipython3",
   "version": "3.11.5"
  }
 },
 "nbformat": 4,
 "nbformat_minor": 5
}
